{
  "nbformat": 4,
  "nbformat_minor": 0,
  "metadata": {
    "colab": {
      "provenance": [],
      "toc_visible": true
    },
    "kernelspec": {
      "name": "python3",
      "display_name": "Python 3"
    },
    "language_info": {
      "name": "python"
    }
  },
  "cells": [
    {
      "cell_type": "markdown",
      "source": [
        "\n",
        "STOCK MARKET PREDICTION"
      ],
      "metadata": {
        "id": "KpGKOMMx16ec"
      }
    },
    {
      "cell_type": "markdown",
      "source": [
        "TASK 1 : STOCK MARKET PREDICTION"
      ],
      "metadata": {
        "id": "9pFUuqqL2DuS"
      }
    },
    {
      "cell_type": "code",
      "execution_count": 3,
      "metadata": {
        "id": "1n6m2I6EytxZ"
      },
      "outputs": [],
      "source": [
        "#importing libraries\n",
        "import pandas as pd\n",
        "import numpy as np\n",
        "import matplotlib.pyplot as plt\n",
        "from sklearn.preprocessing import MinMaxScaler\n"
      ]
    },
    {
      "cell_type": "code",
      "source": [
        "#importing dataset\n",
        "dataset_link = \"https://raw.githubusercontent.com/mwitiderrick/stockprice/master/NSE-TATAGLOBAL.csv\"\n",
        "df = pd.read_csv(dataset_link)\n",
        "df"
      ],
      "metadata": {
        "colab": {
          "base_uri": "https://localhost:8080/",
          "height": 423
        },
        "id": "a9xEITFOy4e7",
        "outputId": "b97b3c8c-2527-4c2c-c8ae-a459d51a4bf4"
      },
      "execution_count": 4,
      "outputs": [
        {
          "output_type": "execute_result",
          "data": {
            "text/plain": [
              "            Date    Open    High     Low    Last   Close  \\\n",
              "0     2018-09-28  234.05  235.95  230.20  233.50  233.75   \n",
              "1     2018-09-27  234.55  236.80  231.10  233.80  233.25   \n",
              "2     2018-09-26  240.00  240.00  232.50  235.00  234.25   \n",
              "3     2018-09-25  233.30  236.75  232.00  236.25  236.10   \n",
              "4     2018-09-24  233.55  239.20  230.75  234.00  233.30   \n",
              "...          ...     ...     ...     ...     ...     ...   \n",
              "2030  2010-07-27  117.60  119.50  112.00  118.80  118.65   \n",
              "2031  2010-07-26  120.10  121.00  117.10  117.10  117.60   \n",
              "2032  2010-07-23  121.80  121.95  120.25  120.35  120.65   \n",
              "2033  2010-07-22  120.30  122.00  120.25  120.75  120.90   \n",
              "2034  2010-07-21  122.10  123.00  121.05  121.10  121.55   \n",
              "\n",
              "      Total Trade Quantity  Turnover (Lacs)  \n",
              "0                  3069914          7162.35  \n",
              "1                  5082859         11859.95  \n",
              "2                  2240909          5248.60  \n",
              "3                  2349368          5503.90  \n",
              "4                  3423509          7999.55  \n",
              "...                    ...              ...  \n",
              "2030                586100           694.98  \n",
              "2031                658440           780.01  \n",
              "2032                281312           340.31  \n",
              "2033                293312           355.17  \n",
              "2034                658666           803.56  \n",
              "\n",
              "[2035 rows x 8 columns]"
            ],
            "text/html": [
              "\n",
              "  <div id=\"df-8417e1e9-b13a-4f35-be1b-9cdf70a647f6\" class=\"colab-df-container\">\n",
              "    <div>\n",
              "<style scoped>\n",
              "    .dataframe tbody tr th:only-of-type {\n",
              "        vertical-align: middle;\n",
              "    }\n",
              "\n",
              "    .dataframe tbody tr th {\n",
              "        vertical-align: top;\n",
              "    }\n",
              "\n",
              "    .dataframe thead th {\n",
              "        text-align: right;\n",
              "    }\n",
              "</style>\n",
              "<table border=\"1\" class=\"dataframe\">\n",
              "  <thead>\n",
              "    <tr style=\"text-align: right;\">\n",
              "      <th></th>\n",
              "      <th>Date</th>\n",
              "      <th>Open</th>\n",
              "      <th>High</th>\n",
              "      <th>Low</th>\n",
              "      <th>Last</th>\n",
              "      <th>Close</th>\n",
              "      <th>Total Trade Quantity</th>\n",
              "      <th>Turnover (Lacs)</th>\n",
              "    </tr>\n",
              "  </thead>\n",
              "  <tbody>\n",
              "    <tr>\n",
              "      <th>0</th>\n",
              "      <td>2018-09-28</td>\n",
              "      <td>234.05</td>\n",
              "      <td>235.95</td>\n",
              "      <td>230.20</td>\n",
              "      <td>233.50</td>\n",
              "      <td>233.75</td>\n",
              "      <td>3069914</td>\n",
              "      <td>7162.35</td>\n",
              "    </tr>\n",
              "    <tr>\n",
              "      <th>1</th>\n",
              "      <td>2018-09-27</td>\n",
              "      <td>234.55</td>\n",
              "      <td>236.80</td>\n",
              "      <td>231.10</td>\n",
              "      <td>233.80</td>\n",
              "      <td>233.25</td>\n",
              "      <td>5082859</td>\n",
              "      <td>11859.95</td>\n",
              "    </tr>\n",
              "    <tr>\n",
              "      <th>2</th>\n",
              "      <td>2018-09-26</td>\n",
              "      <td>240.00</td>\n",
              "      <td>240.00</td>\n",
              "      <td>232.50</td>\n",
              "      <td>235.00</td>\n",
              "      <td>234.25</td>\n",
              "      <td>2240909</td>\n",
              "      <td>5248.60</td>\n",
              "    </tr>\n",
              "    <tr>\n",
              "      <th>3</th>\n",
              "      <td>2018-09-25</td>\n",
              "      <td>233.30</td>\n",
              "      <td>236.75</td>\n",
              "      <td>232.00</td>\n",
              "      <td>236.25</td>\n",
              "      <td>236.10</td>\n",
              "      <td>2349368</td>\n",
              "      <td>5503.90</td>\n",
              "    </tr>\n",
              "    <tr>\n",
              "      <th>4</th>\n",
              "      <td>2018-09-24</td>\n",
              "      <td>233.55</td>\n",
              "      <td>239.20</td>\n",
              "      <td>230.75</td>\n",
              "      <td>234.00</td>\n",
              "      <td>233.30</td>\n",
              "      <td>3423509</td>\n",
              "      <td>7999.55</td>\n",
              "    </tr>\n",
              "    <tr>\n",
              "      <th>...</th>\n",
              "      <td>...</td>\n",
              "      <td>...</td>\n",
              "      <td>...</td>\n",
              "      <td>...</td>\n",
              "      <td>...</td>\n",
              "      <td>...</td>\n",
              "      <td>...</td>\n",
              "      <td>...</td>\n",
              "    </tr>\n",
              "    <tr>\n",
              "      <th>2030</th>\n",
              "      <td>2010-07-27</td>\n",
              "      <td>117.60</td>\n",
              "      <td>119.50</td>\n",
              "      <td>112.00</td>\n",
              "      <td>118.80</td>\n",
              "      <td>118.65</td>\n",
              "      <td>586100</td>\n",
              "      <td>694.98</td>\n",
              "    </tr>\n",
              "    <tr>\n",
              "      <th>2031</th>\n",
              "      <td>2010-07-26</td>\n",
              "      <td>120.10</td>\n",
              "      <td>121.00</td>\n",
              "      <td>117.10</td>\n",
              "      <td>117.10</td>\n",
              "      <td>117.60</td>\n",
              "      <td>658440</td>\n",
              "      <td>780.01</td>\n",
              "    </tr>\n",
              "    <tr>\n",
              "      <th>2032</th>\n",
              "      <td>2010-07-23</td>\n",
              "      <td>121.80</td>\n",
              "      <td>121.95</td>\n",
              "      <td>120.25</td>\n",
              "      <td>120.35</td>\n",
              "      <td>120.65</td>\n",
              "      <td>281312</td>\n",
              "      <td>340.31</td>\n",
              "    </tr>\n",
              "    <tr>\n",
              "      <th>2033</th>\n",
              "      <td>2010-07-22</td>\n",
              "      <td>120.30</td>\n",
              "      <td>122.00</td>\n",
              "      <td>120.25</td>\n",
              "      <td>120.75</td>\n",
              "      <td>120.90</td>\n",
              "      <td>293312</td>\n",
              "      <td>355.17</td>\n",
              "    </tr>\n",
              "    <tr>\n",
              "      <th>2034</th>\n",
              "      <td>2010-07-21</td>\n",
              "      <td>122.10</td>\n",
              "      <td>123.00</td>\n",
              "      <td>121.05</td>\n",
              "      <td>121.10</td>\n",
              "      <td>121.55</td>\n",
              "      <td>658666</td>\n",
              "      <td>803.56</td>\n",
              "    </tr>\n",
              "  </tbody>\n",
              "</table>\n",
              "<p>2035 rows × 8 columns</p>\n",
              "</div>\n",
              "    <div class=\"colab-df-buttons\">\n",
              "\n",
              "  <div class=\"colab-df-container\">\n",
              "    <button class=\"colab-df-convert\" onclick=\"convertToInteractive('df-8417e1e9-b13a-4f35-be1b-9cdf70a647f6')\"\n",
              "            title=\"Convert this dataframe to an interactive table.\"\n",
              "            style=\"display:none;\">\n",
              "\n",
              "  <svg xmlns=\"http://www.w3.org/2000/svg\" height=\"24px\" viewBox=\"0 -960 960 960\">\n",
              "    <path d=\"M120-120v-720h720v720H120Zm60-500h600v-160H180v160Zm220 220h160v-160H400v160Zm0 220h160v-160H400v160ZM180-400h160v-160H180v160Zm440 0h160v-160H620v160ZM180-180h160v-160H180v160Zm440 0h160v-160H620v160Z\"/>\n",
              "  </svg>\n",
              "    </button>\n",
              "\n",
              "  <style>\n",
              "    .colab-df-container {\n",
              "      display:flex;\n",
              "      gap: 12px;\n",
              "    }\n",
              "\n",
              "    .colab-df-convert {\n",
              "      background-color: #E8F0FE;\n",
              "      border: none;\n",
              "      border-radius: 50%;\n",
              "      cursor: pointer;\n",
              "      display: none;\n",
              "      fill: #1967D2;\n",
              "      height: 32px;\n",
              "      padding: 0 0 0 0;\n",
              "      width: 32px;\n",
              "    }\n",
              "\n",
              "    .colab-df-convert:hover {\n",
              "      background-color: #E2EBFA;\n",
              "      box-shadow: 0px 1px 2px rgba(60, 64, 67, 0.3), 0px 1px 3px 1px rgba(60, 64, 67, 0.15);\n",
              "      fill: #174EA6;\n",
              "    }\n",
              "\n",
              "    .colab-df-buttons div {\n",
              "      margin-bottom: 4px;\n",
              "    }\n",
              "\n",
              "    [theme=dark] .colab-df-convert {\n",
              "      background-color: #3B4455;\n",
              "      fill: #D2E3FC;\n",
              "    }\n",
              "\n",
              "    [theme=dark] .colab-df-convert:hover {\n",
              "      background-color: #434B5C;\n",
              "      box-shadow: 0px 1px 3px 1px rgba(0, 0, 0, 0.15);\n",
              "      filter: drop-shadow(0px 1px 2px rgba(0, 0, 0, 0.3));\n",
              "      fill: #FFFFFF;\n",
              "    }\n",
              "  </style>\n",
              "\n",
              "    <script>\n",
              "      const buttonEl =\n",
              "        document.querySelector('#df-8417e1e9-b13a-4f35-be1b-9cdf70a647f6 button.colab-df-convert');\n",
              "      buttonEl.style.display =\n",
              "        google.colab.kernel.accessAllowed ? 'block' : 'none';\n",
              "\n",
              "      async function convertToInteractive(key) {\n",
              "        const element = document.querySelector('#df-8417e1e9-b13a-4f35-be1b-9cdf70a647f6');\n",
              "        const dataTable =\n",
              "          await google.colab.kernel.invokeFunction('convertToInteractive',\n",
              "                                                    [key], {});\n",
              "        if (!dataTable) return;\n",
              "\n",
              "        const docLinkHtml = 'Like what you see? Visit the ' +\n",
              "          '<a target=\"_blank\" href=https://colab.research.google.com/notebooks/data_table.ipynb>data table notebook</a>'\n",
              "          + ' to learn more about interactive tables.';\n",
              "        element.innerHTML = '';\n",
              "        dataTable['output_type'] = 'display_data';\n",
              "        await google.colab.output.renderOutput(dataTable, element);\n",
              "        const docLink = document.createElement('div');\n",
              "        docLink.innerHTML = docLinkHtml;\n",
              "        element.appendChild(docLink);\n",
              "      }\n",
              "    </script>\n",
              "  </div>\n",
              "\n",
              "\n",
              "<div id=\"df-57e2207c-1780-46de-a4ff-95bb17001127\">\n",
              "  <button class=\"colab-df-quickchart\" onclick=\"quickchart('df-57e2207c-1780-46de-a4ff-95bb17001127')\"\n",
              "            title=\"Suggest charts\"\n",
              "            style=\"display:none;\">\n",
              "\n",
              "<svg xmlns=\"http://www.w3.org/2000/svg\" height=\"24px\"viewBox=\"0 0 24 24\"\n",
              "     width=\"24px\">\n",
              "    <g>\n",
              "        <path d=\"M19 3H5c-1.1 0-2 .9-2 2v14c0 1.1.9 2 2 2h14c1.1 0 2-.9 2-2V5c0-1.1-.9-2-2-2zM9 17H7v-7h2v7zm4 0h-2V7h2v10zm4 0h-2v-4h2v4z\"/>\n",
              "    </g>\n",
              "</svg>\n",
              "  </button>\n",
              "\n",
              "<style>\n",
              "  .colab-df-quickchart {\n",
              "      --bg-color: #E8F0FE;\n",
              "      --fill-color: #1967D2;\n",
              "      --hover-bg-color: #E2EBFA;\n",
              "      --hover-fill-color: #174EA6;\n",
              "      --disabled-fill-color: #AAA;\n",
              "      --disabled-bg-color: #DDD;\n",
              "  }\n",
              "\n",
              "  [theme=dark] .colab-df-quickchart {\n",
              "      --bg-color: #3B4455;\n",
              "      --fill-color: #D2E3FC;\n",
              "      --hover-bg-color: #434B5C;\n",
              "      --hover-fill-color: #FFFFFF;\n",
              "      --disabled-bg-color: #3B4455;\n",
              "      --disabled-fill-color: #666;\n",
              "  }\n",
              "\n",
              "  .colab-df-quickchart {\n",
              "    background-color: var(--bg-color);\n",
              "    border: none;\n",
              "    border-radius: 50%;\n",
              "    cursor: pointer;\n",
              "    display: none;\n",
              "    fill: var(--fill-color);\n",
              "    height: 32px;\n",
              "    padding: 0;\n",
              "    width: 32px;\n",
              "  }\n",
              "\n",
              "  .colab-df-quickchart:hover {\n",
              "    background-color: var(--hover-bg-color);\n",
              "    box-shadow: 0 1px 2px rgba(60, 64, 67, 0.3), 0 1px 3px 1px rgba(60, 64, 67, 0.15);\n",
              "    fill: var(--button-hover-fill-color);\n",
              "  }\n",
              "\n",
              "  .colab-df-quickchart-complete:disabled,\n",
              "  .colab-df-quickchart-complete:disabled:hover {\n",
              "    background-color: var(--disabled-bg-color);\n",
              "    fill: var(--disabled-fill-color);\n",
              "    box-shadow: none;\n",
              "  }\n",
              "\n",
              "  .colab-df-spinner {\n",
              "    border: 2px solid var(--fill-color);\n",
              "    border-color: transparent;\n",
              "    border-bottom-color: var(--fill-color);\n",
              "    animation:\n",
              "      spin 1s steps(1) infinite;\n",
              "  }\n",
              "\n",
              "  @keyframes spin {\n",
              "    0% {\n",
              "      border-color: transparent;\n",
              "      border-bottom-color: var(--fill-color);\n",
              "      border-left-color: var(--fill-color);\n",
              "    }\n",
              "    20% {\n",
              "      border-color: transparent;\n",
              "      border-left-color: var(--fill-color);\n",
              "      border-top-color: var(--fill-color);\n",
              "    }\n",
              "    30% {\n",
              "      border-color: transparent;\n",
              "      border-left-color: var(--fill-color);\n",
              "      border-top-color: var(--fill-color);\n",
              "      border-right-color: var(--fill-color);\n",
              "    }\n",
              "    40% {\n",
              "      border-color: transparent;\n",
              "      border-right-color: var(--fill-color);\n",
              "      border-top-color: var(--fill-color);\n",
              "    }\n",
              "    60% {\n",
              "      border-color: transparent;\n",
              "      border-right-color: var(--fill-color);\n",
              "    }\n",
              "    80% {\n",
              "      border-color: transparent;\n",
              "      border-right-color: var(--fill-color);\n",
              "      border-bottom-color: var(--fill-color);\n",
              "    }\n",
              "    90% {\n",
              "      border-color: transparent;\n",
              "      border-bottom-color: var(--fill-color);\n",
              "    }\n",
              "  }\n",
              "</style>\n",
              "\n",
              "  <script>\n",
              "    async function quickchart(key) {\n",
              "      const quickchartButtonEl =\n",
              "        document.querySelector('#' + key + ' button');\n",
              "      quickchartButtonEl.disabled = true;  // To prevent multiple clicks.\n",
              "      quickchartButtonEl.classList.add('colab-df-spinner');\n",
              "      try {\n",
              "        const charts = await google.colab.kernel.invokeFunction(\n",
              "            'suggestCharts', [key], {});\n",
              "      } catch (error) {\n",
              "        console.error('Error during call to suggestCharts:', error);\n",
              "      }\n",
              "      quickchartButtonEl.classList.remove('colab-df-spinner');\n",
              "      quickchartButtonEl.classList.add('colab-df-quickchart-complete');\n",
              "    }\n",
              "    (() => {\n",
              "      let quickchartButtonEl =\n",
              "        document.querySelector('#df-57e2207c-1780-46de-a4ff-95bb17001127 button');\n",
              "      quickchartButtonEl.style.display =\n",
              "        google.colab.kernel.accessAllowed ? 'block' : 'none';\n",
              "    })();\n",
              "  </script>\n",
              "</div>\n",
              "    </div>\n",
              "  </div>\n"
            ]
          },
          "metadata": {},
          "execution_count": 4
        }
      ]
    },
    {
      "cell_type": "code",
      "source": [
        "df.head()"
      ],
      "metadata": {
        "colab": {
          "base_uri": "https://localhost:8080/",
          "height": 206
        },
        "id": "mQF6vVBjzOyc",
        "outputId": "c4ba8551-458e-4a1f-d0f5-5755670e2a9a"
      },
      "execution_count": 5,
      "outputs": [
        {
          "output_type": "execute_result",
          "data": {
            "text/plain": [
              "         Date    Open    High     Low    Last   Close  Total Trade Quantity  \\\n",
              "0  2018-09-28  234.05  235.95  230.20  233.50  233.75               3069914   \n",
              "1  2018-09-27  234.55  236.80  231.10  233.80  233.25               5082859   \n",
              "2  2018-09-26  240.00  240.00  232.50  235.00  234.25               2240909   \n",
              "3  2018-09-25  233.30  236.75  232.00  236.25  236.10               2349368   \n",
              "4  2018-09-24  233.55  239.20  230.75  234.00  233.30               3423509   \n",
              "\n",
              "   Turnover (Lacs)  \n",
              "0          7162.35  \n",
              "1         11859.95  \n",
              "2          5248.60  \n",
              "3          5503.90  \n",
              "4          7999.55  "
            ],
            "text/html": [
              "\n",
              "  <div id=\"df-a10a1ffb-18ef-461a-accc-19ef66e2c059\" class=\"colab-df-container\">\n",
              "    <div>\n",
              "<style scoped>\n",
              "    .dataframe tbody tr th:only-of-type {\n",
              "        vertical-align: middle;\n",
              "    }\n",
              "\n",
              "    .dataframe tbody tr th {\n",
              "        vertical-align: top;\n",
              "    }\n",
              "\n",
              "    .dataframe thead th {\n",
              "        text-align: right;\n",
              "    }\n",
              "</style>\n",
              "<table border=\"1\" class=\"dataframe\">\n",
              "  <thead>\n",
              "    <tr style=\"text-align: right;\">\n",
              "      <th></th>\n",
              "      <th>Date</th>\n",
              "      <th>Open</th>\n",
              "      <th>High</th>\n",
              "      <th>Low</th>\n",
              "      <th>Last</th>\n",
              "      <th>Close</th>\n",
              "      <th>Total Trade Quantity</th>\n",
              "      <th>Turnover (Lacs)</th>\n",
              "    </tr>\n",
              "  </thead>\n",
              "  <tbody>\n",
              "    <tr>\n",
              "      <th>0</th>\n",
              "      <td>2018-09-28</td>\n",
              "      <td>234.05</td>\n",
              "      <td>235.95</td>\n",
              "      <td>230.20</td>\n",
              "      <td>233.50</td>\n",
              "      <td>233.75</td>\n",
              "      <td>3069914</td>\n",
              "      <td>7162.35</td>\n",
              "    </tr>\n",
              "    <tr>\n",
              "      <th>1</th>\n",
              "      <td>2018-09-27</td>\n",
              "      <td>234.55</td>\n",
              "      <td>236.80</td>\n",
              "      <td>231.10</td>\n",
              "      <td>233.80</td>\n",
              "      <td>233.25</td>\n",
              "      <td>5082859</td>\n",
              "      <td>11859.95</td>\n",
              "    </tr>\n",
              "    <tr>\n",
              "      <th>2</th>\n",
              "      <td>2018-09-26</td>\n",
              "      <td>240.00</td>\n",
              "      <td>240.00</td>\n",
              "      <td>232.50</td>\n",
              "      <td>235.00</td>\n",
              "      <td>234.25</td>\n",
              "      <td>2240909</td>\n",
              "      <td>5248.60</td>\n",
              "    </tr>\n",
              "    <tr>\n",
              "      <th>3</th>\n",
              "      <td>2018-09-25</td>\n",
              "      <td>233.30</td>\n",
              "      <td>236.75</td>\n",
              "      <td>232.00</td>\n",
              "      <td>236.25</td>\n",
              "      <td>236.10</td>\n",
              "      <td>2349368</td>\n",
              "      <td>5503.90</td>\n",
              "    </tr>\n",
              "    <tr>\n",
              "      <th>4</th>\n",
              "      <td>2018-09-24</td>\n",
              "      <td>233.55</td>\n",
              "      <td>239.20</td>\n",
              "      <td>230.75</td>\n",
              "      <td>234.00</td>\n",
              "      <td>233.30</td>\n",
              "      <td>3423509</td>\n",
              "      <td>7999.55</td>\n",
              "    </tr>\n",
              "  </tbody>\n",
              "</table>\n",
              "</div>\n",
              "    <div class=\"colab-df-buttons\">\n",
              "\n",
              "  <div class=\"colab-df-container\">\n",
              "    <button class=\"colab-df-convert\" onclick=\"convertToInteractive('df-a10a1ffb-18ef-461a-accc-19ef66e2c059')\"\n",
              "            title=\"Convert this dataframe to an interactive table.\"\n",
              "            style=\"display:none;\">\n",
              "\n",
              "  <svg xmlns=\"http://www.w3.org/2000/svg\" height=\"24px\" viewBox=\"0 -960 960 960\">\n",
              "    <path d=\"M120-120v-720h720v720H120Zm60-500h600v-160H180v160Zm220 220h160v-160H400v160Zm0 220h160v-160H400v160ZM180-400h160v-160H180v160Zm440 0h160v-160H620v160ZM180-180h160v-160H180v160Zm440 0h160v-160H620v160Z\"/>\n",
              "  </svg>\n",
              "    </button>\n",
              "\n",
              "  <style>\n",
              "    .colab-df-container {\n",
              "      display:flex;\n",
              "      gap: 12px;\n",
              "    }\n",
              "\n",
              "    .colab-df-convert {\n",
              "      background-color: #E8F0FE;\n",
              "      border: none;\n",
              "      border-radius: 50%;\n",
              "      cursor: pointer;\n",
              "      display: none;\n",
              "      fill: #1967D2;\n",
              "      height: 32px;\n",
              "      padding: 0 0 0 0;\n",
              "      width: 32px;\n",
              "    }\n",
              "\n",
              "    .colab-df-convert:hover {\n",
              "      background-color: #E2EBFA;\n",
              "      box-shadow: 0px 1px 2px rgba(60, 64, 67, 0.3), 0px 1px 3px 1px rgba(60, 64, 67, 0.15);\n",
              "      fill: #174EA6;\n",
              "    }\n",
              "\n",
              "    .colab-df-buttons div {\n",
              "      margin-bottom: 4px;\n",
              "    }\n",
              "\n",
              "    [theme=dark] .colab-df-convert {\n",
              "      background-color: #3B4455;\n",
              "      fill: #D2E3FC;\n",
              "    }\n",
              "\n",
              "    [theme=dark] .colab-df-convert:hover {\n",
              "      background-color: #434B5C;\n",
              "      box-shadow: 0px 1px 3px 1px rgba(0, 0, 0, 0.15);\n",
              "      filter: drop-shadow(0px 1px 2px rgba(0, 0, 0, 0.3));\n",
              "      fill: #FFFFFF;\n",
              "    }\n",
              "  </style>\n",
              "\n",
              "    <script>\n",
              "      const buttonEl =\n",
              "        document.querySelector('#df-a10a1ffb-18ef-461a-accc-19ef66e2c059 button.colab-df-convert');\n",
              "      buttonEl.style.display =\n",
              "        google.colab.kernel.accessAllowed ? 'block' : 'none';\n",
              "\n",
              "      async function convertToInteractive(key) {\n",
              "        const element = document.querySelector('#df-a10a1ffb-18ef-461a-accc-19ef66e2c059');\n",
              "        const dataTable =\n",
              "          await google.colab.kernel.invokeFunction('convertToInteractive',\n",
              "                                                    [key], {});\n",
              "        if (!dataTable) return;\n",
              "\n",
              "        const docLinkHtml = 'Like what you see? Visit the ' +\n",
              "          '<a target=\"_blank\" href=https://colab.research.google.com/notebooks/data_table.ipynb>data table notebook</a>'\n",
              "          + ' to learn more about interactive tables.';\n",
              "        element.innerHTML = '';\n",
              "        dataTable['output_type'] = 'display_data';\n",
              "        await google.colab.output.renderOutput(dataTable, element);\n",
              "        const docLink = document.createElement('div');\n",
              "        docLink.innerHTML = docLinkHtml;\n",
              "        element.appendChild(docLink);\n",
              "      }\n",
              "    </script>\n",
              "  </div>\n",
              "\n",
              "\n",
              "<div id=\"df-6f8b7b7c-b9f9-43b8-a30e-dabcec55c655\">\n",
              "  <button class=\"colab-df-quickchart\" onclick=\"quickchart('df-6f8b7b7c-b9f9-43b8-a30e-dabcec55c655')\"\n",
              "            title=\"Suggest charts\"\n",
              "            style=\"display:none;\">\n",
              "\n",
              "<svg xmlns=\"http://www.w3.org/2000/svg\" height=\"24px\"viewBox=\"0 0 24 24\"\n",
              "     width=\"24px\">\n",
              "    <g>\n",
              "        <path d=\"M19 3H5c-1.1 0-2 .9-2 2v14c0 1.1.9 2 2 2h14c1.1 0 2-.9 2-2V5c0-1.1-.9-2-2-2zM9 17H7v-7h2v7zm4 0h-2V7h2v10zm4 0h-2v-4h2v4z\"/>\n",
              "    </g>\n",
              "</svg>\n",
              "  </button>\n",
              "\n",
              "<style>\n",
              "  .colab-df-quickchart {\n",
              "      --bg-color: #E8F0FE;\n",
              "      --fill-color: #1967D2;\n",
              "      --hover-bg-color: #E2EBFA;\n",
              "      --hover-fill-color: #174EA6;\n",
              "      --disabled-fill-color: #AAA;\n",
              "      --disabled-bg-color: #DDD;\n",
              "  }\n",
              "\n",
              "  [theme=dark] .colab-df-quickchart {\n",
              "      --bg-color: #3B4455;\n",
              "      --fill-color: #D2E3FC;\n",
              "      --hover-bg-color: #434B5C;\n",
              "      --hover-fill-color: #FFFFFF;\n",
              "      --disabled-bg-color: #3B4455;\n",
              "      --disabled-fill-color: #666;\n",
              "  }\n",
              "\n",
              "  .colab-df-quickchart {\n",
              "    background-color: var(--bg-color);\n",
              "    border: none;\n",
              "    border-radius: 50%;\n",
              "    cursor: pointer;\n",
              "    display: none;\n",
              "    fill: var(--fill-color);\n",
              "    height: 32px;\n",
              "    padding: 0;\n",
              "    width: 32px;\n",
              "  }\n",
              "\n",
              "  .colab-df-quickchart:hover {\n",
              "    background-color: var(--hover-bg-color);\n",
              "    box-shadow: 0 1px 2px rgba(60, 64, 67, 0.3), 0 1px 3px 1px rgba(60, 64, 67, 0.15);\n",
              "    fill: var(--button-hover-fill-color);\n",
              "  }\n",
              "\n",
              "  .colab-df-quickchart-complete:disabled,\n",
              "  .colab-df-quickchart-complete:disabled:hover {\n",
              "    background-color: var(--disabled-bg-color);\n",
              "    fill: var(--disabled-fill-color);\n",
              "    box-shadow: none;\n",
              "  }\n",
              "\n",
              "  .colab-df-spinner {\n",
              "    border: 2px solid var(--fill-color);\n",
              "    border-color: transparent;\n",
              "    border-bottom-color: var(--fill-color);\n",
              "    animation:\n",
              "      spin 1s steps(1) infinite;\n",
              "  }\n",
              "\n",
              "  @keyframes spin {\n",
              "    0% {\n",
              "      border-color: transparent;\n",
              "      border-bottom-color: var(--fill-color);\n",
              "      border-left-color: var(--fill-color);\n",
              "    }\n",
              "    20% {\n",
              "      border-color: transparent;\n",
              "      border-left-color: var(--fill-color);\n",
              "      border-top-color: var(--fill-color);\n",
              "    }\n",
              "    30% {\n",
              "      border-color: transparent;\n",
              "      border-left-color: var(--fill-color);\n",
              "      border-top-color: var(--fill-color);\n",
              "      border-right-color: var(--fill-color);\n",
              "    }\n",
              "    40% {\n",
              "      border-color: transparent;\n",
              "      border-right-color: var(--fill-color);\n",
              "      border-top-color: var(--fill-color);\n",
              "    }\n",
              "    60% {\n",
              "      border-color: transparent;\n",
              "      border-right-color: var(--fill-color);\n",
              "    }\n",
              "    80% {\n",
              "      border-color: transparent;\n",
              "      border-right-color: var(--fill-color);\n",
              "      border-bottom-color: var(--fill-color);\n",
              "    }\n",
              "    90% {\n",
              "      border-color: transparent;\n",
              "      border-bottom-color: var(--fill-color);\n",
              "    }\n",
              "  }\n",
              "</style>\n",
              "\n",
              "  <script>\n",
              "    async function quickchart(key) {\n",
              "      const quickchartButtonEl =\n",
              "        document.querySelector('#' + key + ' button');\n",
              "      quickchartButtonEl.disabled = true;  // To prevent multiple clicks.\n",
              "      quickchartButtonEl.classList.add('colab-df-spinner');\n",
              "      try {\n",
              "        const charts = await google.colab.kernel.invokeFunction(\n",
              "            'suggestCharts', [key], {});\n",
              "      } catch (error) {\n",
              "        console.error('Error during call to suggestCharts:', error);\n",
              "      }\n",
              "      quickchartButtonEl.classList.remove('colab-df-spinner');\n",
              "      quickchartButtonEl.classList.add('colab-df-quickchart-complete');\n",
              "    }\n",
              "    (() => {\n",
              "      let quickchartButtonEl =\n",
              "        document.querySelector('#df-6f8b7b7c-b9f9-43b8-a30e-dabcec55c655 button');\n",
              "      quickchartButtonEl.style.display =\n",
              "        google.colab.kernel.accessAllowed ? 'block' : 'none';\n",
              "    })();\n",
              "  </script>\n",
              "</div>\n",
              "    </div>\n",
              "  </div>\n"
            ]
          },
          "metadata": {},
          "execution_count": 5
        }
      ]
    },
    {
      "cell_type": "code",
      "source": [
        "df.describe()"
      ],
      "metadata": {
        "colab": {
          "base_uri": "https://localhost:8080/",
          "height": 300
        },
        "id": "GKPeeVq00Toi",
        "outputId": "1ab3de9e-6fcb-4d95-b11c-e49b9e4e0f33"
      },
      "execution_count": 6,
      "outputs": [
        {
          "output_type": "execute_result",
          "data": {
            "text/plain": [
              "              Open         High          Low         Last       Close  \\\n",
              "count  2035.000000  2035.000000  2035.000000  2035.000000  2035.00000   \n",
              "mean    149.713735   151.992826   147.293931   149.474251   149.45027   \n",
              "std      48.664509    49.413109    47.931958    48.732570    48.71204   \n",
              "min      81.100000    82.800000    80.000000    81.000000    80.95000   \n",
              "25%     120.025000   122.100000   118.300000   120.075000   120.05000   \n",
              "50%     141.500000   143.400000   139.600000   141.100000   141.25000   \n",
              "75%     157.175000   159.400000   155.150000   156.925000   156.90000   \n",
              "max     327.700000   328.750000   321.650000   325.950000   325.75000   \n",
              "\n",
              "       Total Trade Quantity  Turnover (Lacs)  \n",
              "count          2.035000e+03      2035.000000  \n",
              "mean           2.335681e+06      3899.980565  \n",
              "std            2.091778e+06      4570.767877  \n",
              "min            3.961000e+04        37.040000  \n",
              "25%            1.146444e+06      1427.460000  \n",
              "50%            1.783456e+06      2512.030000  \n",
              "75%            2.813594e+06      4539.015000  \n",
              "max            2.919102e+07     55755.080000  "
            ],
            "text/html": [
              "\n",
              "  <div id=\"df-8d5c9741-7011-4dca-a223-c431bfdb73aa\" class=\"colab-df-container\">\n",
              "    <div>\n",
              "<style scoped>\n",
              "    .dataframe tbody tr th:only-of-type {\n",
              "        vertical-align: middle;\n",
              "    }\n",
              "\n",
              "    .dataframe tbody tr th {\n",
              "        vertical-align: top;\n",
              "    }\n",
              "\n",
              "    .dataframe thead th {\n",
              "        text-align: right;\n",
              "    }\n",
              "</style>\n",
              "<table border=\"1\" class=\"dataframe\">\n",
              "  <thead>\n",
              "    <tr style=\"text-align: right;\">\n",
              "      <th></th>\n",
              "      <th>Open</th>\n",
              "      <th>High</th>\n",
              "      <th>Low</th>\n",
              "      <th>Last</th>\n",
              "      <th>Close</th>\n",
              "      <th>Total Trade Quantity</th>\n",
              "      <th>Turnover (Lacs)</th>\n",
              "    </tr>\n",
              "  </thead>\n",
              "  <tbody>\n",
              "    <tr>\n",
              "      <th>count</th>\n",
              "      <td>2035.000000</td>\n",
              "      <td>2035.000000</td>\n",
              "      <td>2035.000000</td>\n",
              "      <td>2035.000000</td>\n",
              "      <td>2035.00000</td>\n",
              "      <td>2.035000e+03</td>\n",
              "      <td>2035.000000</td>\n",
              "    </tr>\n",
              "    <tr>\n",
              "      <th>mean</th>\n",
              "      <td>149.713735</td>\n",
              "      <td>151.992826</td>\n",
              "      <td>147.293931</td>\n",
              "      <td>149.474251</td>\n",
              "      <td>149.45027</td>\n",
              "      <td>2.335681e+06</td>\n",
              "      <td>3899.980565</td>\n",
              "    </tr>\n",
              "    <tr>\n",
              "      <th>std</th>\n",
              "      <td>48.664509</td>\n",
              "      <td>49.413109</td>\n",
              "      <td>47.931958</td>\n",
              "      <td>48.732570</td>\n",
              "      <td>48.71204</td>\n",
              "      <td>2.091778e+06</td>\n",
              "      <td>4570.767877</td>\n",
              "    </tr>\n",
              "    <tr>\n",
              "      <th>min</th>\n",
              "      <td>81.100000</td>\n",
              "      <td>82.800000</td>\n",
              "      <td>80.000000</td>\n",
              "      <td>81.000000</td>\n",
              "      <td>80.95000</td>\n",
              "      <td>3.961000e+04</td>\n",
              "      <td>37.040000</td>\n",
              "    </tr>\n",
              "    <tr>\n",
              "      <th>25%</th>\n",
              "      <td>120.025000</td>\n",
              "      <td>122.100000</td>\n",
              "      <td>118.300000</td>\n",
              "      <td>120.075000</td>\n",
              "      <td>120.05000</td>\n",
              "      <td>1.146444e+06</td>\n",
              "      <td>1427.460000</td>\n",
              "    </tr>\n",
              "    <tr>\n",
              "      <th>50%</th>\n",
              "      <td>141.500000</td>\n",
              "      <td>143.400000</td>\n",
              "      <td>139.600000</td>\n",
              "      <td>141.100000</td>\n",
              "      <td>141.25000</td>\n",
              "      <td>1.783456e+06</td>\n",
              "      <td>2512.030000</td>\n",
              "    </tr>\n",
              "    <tr>\n",
              "      <th>75%</th>\n",
              "      <td>157.175000</td>\n",
              "      <td>159.400000</td>\n",
              "      <td>155.150000</td>\n",
              "      <td>156.925000</td>\n",
              "      <td>156.90000</td>\n",
              "      <td>2.813594e+06</td>\n",
              "      <td>4539.015000</td>\n",
              "    </tr>\n",
              "    <tr>\n",
              "      <th>max</th>\n",
              "      <td>327.700000</td>\n",
              "      <td>328.750000</td>\n",
              "      <td>321.650000</td>\n",
              "      <td>325.950000</td>\n",
              "      <td>325.75000</td>\n",
              "      <td>2.919102e+07</td>\n",
              "      <td>55755.080000</td>\n",
              "    </tr>\n",
              "  </tbody>\n",
              "</table>\n",
              "</div>\n",
              "    <div class=\"colab-df-buttons\">\n",
              "\n",
              "  <div class=\"colab-df-container\">\n",
              "    <button class=\"colab-df-convert\" onclick=\"convertToInteractive('df-8d5c9741-7011-4dca-a223-c431bfdb73aa')\"\n",
              "            title=\"Convert this dataframe to an interactive table.\"\n",
              "            style=\"display:none;\">\n",
              "\n",
              "  <svg xmlns=\"http://www.w3.org/2000/svg\" height=\"24px\" viewBox=\"0 -960 960 960\">\n",
              "    <path d=\"M120-120v-720h720v720H120Zm60-500h600v-160H180v160Zm220 220h160v-160H400v160Zm0 220h160v-160H400v160ZM180-400h160v-160H180v160Zm440 0h160v-160H620v160ZM180-180h160v-160H180v160Zm440 0h160v-160H620v160Z\"/>\n",
              "  </svg>\n",
              "    </button>\n",
              "\n",
              "  <style>\n",
              "    .colab-df-container {\n",
              "      display:flex;\n",
              "      gap: 12px;\n",
              "    }\n",
              "\n",
              "    .colab-df-convert {\n",
              "      background-color: #E8F0FE;\n",
              "      border: none;\n",
              "      border-radius: 50%;\n",
              "      cursor: pointer;\n",
              "      display: none;\n",
              "      fill: #1967D2;\n",
              "      height: 32px;\n",
              "      padding: 0 0 0 0;\n",
              "      width: 32px;\n",
              "    }\n",
              "\n",
              "    .colab-df-convert:hover {\n",
              "      background-color: #E2EBFA;\n",
              "      box-shadow: 0px 1px 2px rgba(60, 64, 67, 0.3), 0px 1px 3px 1px rgba(60, 64, 67, 0.15);\n",
              "      fill: #174EA6;\n",
              "    }\n",
              "\n",
              "    .colab-df-buttons div {\n",
              "      margin-bottom: 4px;\n",
              "    }\n",
              "\n",
              "    [theme=dark] .colab-df-convert {\n",
              "      background-color: #3B4455;\n",
              "      fill: #D2E3FC;\n",
              "    }\n",
              "\n",
              "    [theme=dark] .colab-df-convert:hover {\n",
              "      background-color: #434B5C;\n",
              "      box-shadow: 0px 1px 3px 1px rgba(0, 0, 0, 0.15);\n",
              "      filter: drop-shadow(0px 1px 2px rgba(0, 0, 0, 0.3));\n",
              "      fill: #FFFFFF;\n",
              "    }\n",
              "  </style>\n",
              "\n",
              "    <script>\n",
              "      const buttonEl =\n",
              "        document.querySelector('#df-8d5c9741-7011-4dca-a223-c431bfdb73aa button.colab-df-convert');\n",
              "      buttonEl.style.display =\n",
              "        google.colab.kernel.accessAllowed ? 'block' : 'none';\n",
              "\n",
              "      async function convertToInteractive(key) {\n",
              "        const element = document.querySelector('#df-8d5c9741-7011-4dca-a223-c431bfdb73aa');\n",
              "        const dataTable =\n",
              "          await google.colab.kernel.invokeFunction('convertToInteractive',\n",
              "                                                    [key], {});\n",
              "        if (!dataTable) return;\n",
              "\n",
              "        const docLinkHtml = 'Like what you see? Visit the ' +\n",
              "          '<a target=\"_blank\" href=https://colab.research.google.com/notebooks/data_table.ipynb>data table notebook</a>'\n",
              "          + ' to learn more about interactive tables.';\n",
              "        element.innerHTML = '';\n",
              "        dataTable['output_type'] = 'display_data';\n",
              "        await google.colab.output.renderOutput(dataTable, element);\n",
              "        const docLink = document.createElement('div');\n",
              "        docLink.innerHTML = docLinkHtml;\n",
              "        element.appendChild(docLink);\n",
              "      }\n",
              "    </script>\n",
              "  </div>\n",
              "\n",
              "\n",
              "<div id=\"df-e64cf863-95af-4266-a2a5-b63a76a50f68\">\n",
              "  <button class=\"colab-df-quickchart\" onclick=\"quickchart('df-e64cf863-95af-4266-a2a5-b63a76a50f68')\"\n",
              "            title=\"Suggest charts\"\n",
              "            style=\"display:none;\">\n",
              "\n",
              "<svg xmlns=\"http://www.w3.org/2000/svg\" height=\"24px\"viewBox=\"0 0 24 24\"\n",
              "     width=\"24px\">\n",
              "    <g>\n",
              "        <path d=\"M19 3H5c-1.1 0-2 .9-2 2v14c0 1.1.9 2 2 2h14c1.1 0 2-.9 2-2V5c0-1.1-.9-2-2-2zM9 17H7v-7h2v7zm4 0h-2V7h2v10zm4 0h-2v-4h2v4z\"/>\n",
              "    </g>\n",
              "</svg>\n",
              "  </button>\n",
              "\n",
              "<style>\n",
              "  .colab-df-quickchart {\n",
              "      --bg-color: #E8F0FE;\n",
              "      --fill-color: #1967D2;\n",
              "      --hover-bg-color: #E2EBFA;\n",
              "      --hover-fill-color: #174EA6;\n",
              "      --disabled-fill-color: #AAA;\n",
              "      --disabled-bg-color: #DDD;\n",
              "  }\n",
              "\n",
              "  [theme=dark] .colab-df-quickchart {\n",
              "      --bg-color: #3B4455;\n",
              "      --fill-color: #D2E3FC;\n",
              "      --hover-bg-color: #434B5C;\n",
              "      --hover-fill-color: #FFFFFF;\n",
              "      --disabled-bg-color: #3B4455;\n",
              "      --disabled-fill-color: #666;\n",
              "  }\n",
              "\n",
              "  .colab-df-quickchart {\n",
              "    background-color: var(--bg-color);\n",
              "    border: none;\n",
              "    border-radius: 50%;\n",
              "    cursor: pointer;\n",
              "    display: none;\n",
              "    fill: var(--fill-color);\n",
              "    height: 32px;\n",
              "    padding: 0;\n",
              "    width: 32px;\n",
              "  }\n",
              "\n",
              "  .colab-df-quickchart:hover {\n",
              "    background-color: var(--hover-bg-color);\n",
              "    box-shadow: 0 1px 2px rgba(60, 64, 67, 0.3), 0 1px 3px 1px rgba(60, 64, 67, 0.15);\n",
              "    fill: var(--button-hover-fill-color);\n",
              "  }\n",
              "\n",
              "  .colab-df-quickchart-complete:disabled,\n",
              "  .colab-df-quickchart-complete:disabled:hover {\n",
              "    background-color: var(--disabled-bg-color);\n",
              "    fill: var(--disabled-fill-color);\n",
              "    box-shadow: none;\n",
              "  }\n",
              "\n",
              "  .colab-df-spinner {\n",
              "    border: 2px solid var(--fill-color);\n",
              "    border-color: transparent;\n",
              "    border-bottom-color: var(--fill-color);\n",
              "    animation:\n",
              "      spin 1s steps(1) infinite;\n",
              "  }\n",
              "\n",
              "  @keyframes spin {\n",
              "    0% {\n",
              "      border-color: transparent;\n",
              "      border-bottom-color: var(--fill-color);\n",
              "      border-left-color: var(--fill-color);\n",
              "    }\n",
              "    20% {\n",
              "      border-color: transparent;\n",
              "      border-left-color: var(--fill-color);\n",
              "      border-top-color: var(--fill-color);\n",
              "    }\n",
              "    30% {\n",
              "      border-color: transparent;\n",
              "      border-left-color: var(--fill-color);\n",
              "      border-top-color: var(--fill-color);\n",
              "      border-right-color: var(--fill-color);\n",
              "    }\n",
              "    40% {\n",
              "      border-color: transparent;\n",
              "      border-right-color: var(--fill-color);\n",
              "      border-top-color: var(--fill-color);\n",
              "    }\n",
              "    60% {\n",
              "      border-color: transparent;\n",
              "      border-right-color: var(--fill-color);\n",
              "    }\n",
              "    80% {\n",
              "      border-color: transparent;\n",
              "      border-right-color: var(--fill-color);\n",
              "      border-bottom-color: var(--fill-color);\n",
              "    }\n",
              "    90% {\n",
              "      border-color: transparent;\n",
              "      border-bottom-color: var(--fill-color);\n",
              "    }\n",
              "  }\n",
              "</style>\n",
              "\n",
              "  <script>\n",
              "    async function quickchart(key) {\n",
              "      const quickchartButtonEl =\n",
              "        document.querySelector('#' + key + ' button');\n",
              "      quickchartButtonEl.disabled = true;  // To prevent multiple clicks.\n",
              "      quickchartButtonEl.classList.add('colab-df-spinner');\n",
              "      try {\n",
              "        const charts = await google.colab.kernel.invokeFunction(\n",
              "            'suggestCharts', [key], {});\n",
              "      } catch (error) {\n",
              "        console.error('Error during call to suggestCharts:', error);\n",
              "      }\n",
              "      quickchartButtonEl.classList.remove('colab-df-spinner');\n",
              "      quickchartButtonEl.classList.add('colab-df-quickchart-complete');\n",
              "    }\n",
              "    (() => {\n",
              "      let quickchartButtonEl =\n",
              "        document.querySelector('#df-e64cf863-95af-4266-a2a5-b63a76a50f68 button');\n",
              "      quickchartButtonEl.style.display =\n",
              "        google.colab.kernel.accessAllowed ? 'block' : 'none';\n",
              "    })();\n",
              "  </script>\n",
              "</div>\n",
              "    </div>\n",
              "  </div>\n"
            ]
          },
          "metadata": {},
          "execution_count": 6
        }
      ]
    },
    {
      "cell_type": "code",
      "source": [
        "df.info()"
      ],
      "metadata": {
        "colab": {
          "base_uri": "https://localhost:8080/"
        },
        "id": "IpnceBG50V04",
        "outputId": "da2e6cce-45c9-4be9-d3af-ec0fab0911df"
      },
      "execution_count": 7,
      "outputs": [
        {
          "output_type": "stream",
          "name": "stdout",
          "text": [
            "<class 'pandas.core.frame.DataFrame'>\n",
            "RangeIndex: 2035 entries, 0 to 2034\n",
            "Data columns (total 8 columns):\n",
            " #   Column                Non-Null Count  Dtype  \n",
            "---  ------                --------------  -----  \n",
            " 0   Date                  2035 non-null   object \n",
            " 1   Open                  2035 non-null   float64\n",
            " 2   High                  2035 non-null   float64\n",
            " 3   Low                   2035 non-null   float64\n",
            " 4   Last                  2035 non-null   float64\n",
            " 5   Close                 2035 non-null   float64\n",
            " 6   Total Trade Quantity  2035 non-null   int64  \n",
            " 7   Turnover (Lacs)       2035 non-null   float64\n",
            "dtypes: float64(6), int64(1), object(1)\n",
            "memory usage: 127.3+ KB\n"
          ]
        }
      ]
    },
    {
      "cell_type": "code",
      "source": [
        "df.isnull().sum()"
      ],
      "metadata": {
        "colab": {
          "base_uri": "https://localhost:8080/"
        },
        "id": "t0F5dp-60Ywo",
        "outputId": "2587992f-9ec2-408c-bbdb-c32bfacc861d"
      },
      "execution_count": 8,
      "outputs": [
        {
          "output_type": "execute_result",
          "data": {
            "text/plain": [
              "Date                    0\n",
              "Open                    0\n",
              "High                    0\n",
              "Low                     0\n",
              "Last                    0\n",
              "Close                   0\n",
              "Total Trade Quantity    0\n",
              "Turnover (Lacs)         0\n",
              "dtype: int64"
            ]
          },
          "metadata": {},
          "execution_count": 8
        }
      ]
    },
    {
      "cell_type": "code",
      "source": [
        "#sort data\n",
        "new_df['Date'] = pd.to_datetime(new_df['Date'], errors='coerce')\n",
        "print(type(new_df.Date[0]))"
      ],
      "metadata": {
        "colab": {
          "base_uri": "https://localhost:8080/"
        },
        "id": "COR3q3QF0bYC",
        "outputId": "b3ed71d9-8717-4032-dc41-34a41852be42"
      },
      "execution_count": 10,
      "outputs": [
        {
          "output_type": "stream",
          "name": "stdout",
          "text": [
            "<class 'pandas._libs.tslibs.timestamps.Timestamp'>\n"
          ]
        }
      ]
    },
    {
      "cell_type": "code",
      "source": [
        "new_df.sort_values(by=['Date'],inplace=True,ascending=True)\n",
        "new_df.Date.head()"
      ],
      "metadata": {
        "colab": {
          "base_uri": "https://localhost:8080/"
        },
        "id": "aWiVBHKY0fo_",
        "outputId": "025d4be5-5561-4fb1-aeeb-19ff9f3c935a"
      },
      "execution_count": 11,
      "outputs": [
        {
          "output_type": "execute_result",
          "data": {
            "text/plain": [
              "2034   2010-07-21\n",
              "2033   2010-07-22\n",
              "2032   2010-07-23\n",
              "2031   2010-07-26\n",
              "2030   2010-07-27\n",
              "Name: Date, dtype: datetime64[ns]"
            ]
          },
          "metadata": {},
          "execution_count": 11
        }
      ]
    },
    {
      "cell_type": "markdown",
      "source": [
        "Data Visualization\n"
      ],
      "metadata": {
        "id": "IlgtgcfY49X3"
      }
    },
    {
      "cell_type": "code",
      "source": [
        "fig,ax=plt.subplots()\n",
        "ax.scatter(new_df.Date,new_df.Close)"
      ],
      "metadata": {
        "colab": {
          "base_uri": "https://localhost:8080/",
          "height": 447
        },
        "id": "xviL5oTC45AL",
        "outputId": "541b80e9-62e3-4fd0-80d9-feec1f18cf84"
      },
      "execution_count": 12,
      "outputs": [
        {
          "output_type": "execute_result",
          "data": {
            "text/plain": [
              "<matplotlib.collections.PathCollection at 0x7e7fd4604d00>"
            ]
          },
          "metadata": {},
          "execution_count": 12
        },
        {
          "output_type": "display_data",
          "data": {
            "text/plain": [
              "<Figure size 640x480 with 1 Axes>"
            ],
            "image/png": "[encoded data removed]"
          },
          "metadata": {}
        }
      ]
    },
    {
      "cell_type": "code",
      "source": [
        "new_df.reset_index(inplace=True)\n",
        "new_df"
      ],
      "metadata": {
        "colab": {
          "base_uri": "https://localhost:8080/",
          "height": 423
        },
        "id": "x5ZVbZCc5awL",
        "outputId": "4c9f7320-72f1-4d60-965e-aacd97fe0008"
      },
      "execution_count": 13,
      "outputs": [
        {
          "output_type": "execute_result",
          "data": {
            "text/plain": [
              "      index       Date    Open    High     Low    Last   Close  \\\n",
              "0      2034 2010-07-21  122.10  123.00  121.05  121.10  121.55   \n",
              "1      2033 2010-07-22  120.30  122.00  120.25  120.75  120.90   \n",
              "2      2032 2010-07-23  121.80  121.95  120.25  120.35  120.65   \n",
              "3      2031 2010-07-26  120.10  121.00  117.10  117.10  117.60   \n",
              "4      2030 2010-07-27  117.60  119.50  112.00  118.80  118.65   \n",
              "...     ...        ...     ...     ...     ...     ...     ...   \n",
              "2030      4 2018-09-24  233.55  239.20  230.75  234.00  233.30   \n",
              "2031      3 2018-09-25  233.30  236.75  232.00  236.25  236.10   \n",
              "2032      2 2018-09-26  240.00  240.00  232.50  235.00  234.25   \n",
              "2033      1 2018-09-27  234.55  236.80  231.10  233.80  233.25   \n",
              "2034      0 2018-09-28  234.05  235.95  230.20  233.50  233.75   \n",
              "\n",
              "      Total Trade Quantity  Turnover (Lacs)  \n",
              "0                   658666           803.56  \n",
              "1                   293312           355.17  \n",
              "2                   281312           340.31  \n",
              "3                   658440           780.01  \n",
              "4                   586100           694.98  \n",
              "...                    ...              ...  \n",
              "2030               3423509          7999.55  \n",
              "2031               2349368          5503.90  \n",
              "2032               2240909          5248.60  \n",
              "2033               5082859         11859.95  \n",
              "2034               3069914          7162.35  \n",
              "\n",
              "[2035 rows x 9 columns]"
            ],
            "text/html": [
              "\n",
              "  <div id=\"df-3776ebd2-4d72-4d00-9677-9db92417a95f\" class=\"colab-df-container\">\n",
              "    <div>\n",
              "<style scoped>\n",
              "    .dataframe tbody tr th:only-of-type {\n",
              "        vertical-align: middle;\n",
              "    }\n",
              "\n",
              "    .dataframe tbody tr th {\n",
              "        vertical-align: top;\n",
              "    }\n",
              "\n",
              "    .dataframe thead th {\n",
              "        text-align: right;\n",
              "    }\n",
              "</style>\n",
              "<table border=\"1\" class=\"dataframe\">\n",
              "  <thead>\n",
              "    <tr style=\"text-align: right;\">\n",
              "      <th></th>\n",
              "      <th>index</th>\n",
              "      <th>Date</th>\n",
              "      <th>Open</th>\n",
              "      <th>High</th>\n",
              "      <th>Low</th>\n",
              "      <th>Last</th>\n",
              "      <th>Close</th>\n",
              "      <th>Total Trade Quantity</th>\n",
              "      <th>Turnover (Lacs)</th>\n",
              "    </tr>\n",
              "  </thead>\n",
              "  <tbody>\n",
              "    <tr>\n",
              "      <th>0</th>\n",
              "      <td>2034</td>\n",
              "      <td>2010-07-21</td>\n",
              "      <td>122.10</td>\n",
              "      <td>123.00</td>\n",
              "      <td>121.05</td>\n",
              "      <td>121.10</td>\n",
              "      <td>121.55</td>\n",
              "      <td>658666</td>\n",
              "      <td>803.56</td>\n",
              "    </tr>\n",
              "    <tr>\n",
              "      <th>1</th>\n",
              "      <td>2033</td>\n",
              "      <td>2010-07-22</td>\n",
              "      <td>120.30</td>\n",
              "      <td>122.00</td>\n",
              "      <td>120.25</td>\n",
              "      <td>120.75</td>\n",
              "      <td>120.90</td>\n",
              "      <td>293312</td>\n",
              "      <td>355.17</td>\n",
              "    </tr>\n",
              "    <tr>\n",
              "      <th>2</th>\n",
              "      <td>2032</td>\n",
              "      <td>2010-07-23</td>\n",
              "      <td>121.80</td>\n",
              "      <td>121.95</td>\n",
              "      <td>120.25</td>\n",
              "      <td>120.35</td>\n",
              "      <td>120.65</td>\n",
              "      <td>281312</td>\n",
              "      <td>340.31</td>\n",
              "    </tr>\n",
              "    <tr>\n",
              "      <th>3</th>\n",
              "      <td>2031</td>\n",
              "      <td>2010-07-26</td>\n",
              "      <td>120.10</td>\n",
              "      <td>121.00</td>\n",
              "      <td>117.10</td>\n",
              "      <td>117.10</td>\n",
              "      <td>117.60</td>\n",
              "      <td>658440</td>\n",
              "      <td>780.01</td>\n",
              "    </tr>\n",
              "    <tr>\n",
              "      <th>4</th>\n",
              "      <td>2030</td>\n",
              "      <td>2010-07-27</td>\n",
              "      <td>117.60</td>\n",
              "      <td>119.50</td>\n",
              "      <td>112.00</td>\n",
              "      <td>118.80</td>\n",
              "      <td>118.65</td>\n",
              "      <td>586100</td>\n",
              "      <td>694.98</td>\n",
              "    </tr>\n",
              "    <tr>\n",
              "      <th>...</th>\n",
              "      <td>...</td>\n",
              "      <td>...</td>\n",
              "      <td>...</td>\n",
              "      <td>...</td>\n",
              "      <td>...</td>\n",
              "      <td>...</td>\n",
              "      <td>...</td>\n",
              "      <td>...</td>\n",
              "      <td>...</td>\n",
              "    </tr>\n",
              "    <tr>\n",
              "      <th>2030</th>\n",
              "      <td>4</td>\n",
              "      <td>2018-09-24</td>\n",
              "      <td>233.55</td>\n",
              "      <td>239.20</td>\n",
              "      <td>230.75</td>\n",
              "      <td>234.00</td>\n",
              "      <td>233.30</td>\n",
              "      <td>3423509</td>\n",
              "      <td>7999.55</td>\n",
              "    </tr>\n",
              "    <tr>\n",
              "      <th>2031</th>\n",
              "      <td>3</td>\n",
              "      <td>2018-09-25</td>\n",
              "      <td>233.30</td>\n",
              "      <td>236.75</td>\n",
              "      <td>232.00</td>\n",
              "      <td>236.25</td>\n",
              "      <td>236.10</td>\n",
              "      <td>2349368</td>\n",
              "      <td>5503.90</td>\n",
              "    </tr>\n",
              "    <tr>\n",
              "      <th>2032</th>\n",
              "      <td>2</td>\n",
              "      <td>2018-09-26</td>\n",
              "      <td>240.00</td>\n",
              "      <td>240.00</td>\n",
              "      <td>232.50</td>\n",
              "      <td>235.00</td>\n",
              "      <td>234.25</td>\n",
              "      <td>2240909</td>\n",
              "      <td>5248.60</td>\n",
              "    </tr>\n",
              "    <tr>\n",
              "      <th>2033</th>\n",
              "      <td>1</td>\n",
              "      <td>2018-09-27</td>\n",
              "      <td>234.55</td>\n",
              "      <td>236.80</td>\n",
              "      <td>231.10</td>\n",
              "      <td>233.80</td>\n",
              "      <td>233.25</td>\n",
              "      <td>5082859</td>\n",
              "      <td>11859.95</td>\n",
              "    </tr>\n",
              "    <tr>\n",
              "      <th>2034</th>\n",
              "      <td>0</td>\n",
              "      <td>2018-09-28</td>\n",
              "      <td>234.05</td>\n",
              "      <td>235.95</td>\n",
              "      <td>230.20</td>\n",
              "      <td>233.50</td>\n",
              "      <td>233.75</td>\n",
              "      <td>3069914</td>\n",
              "      <td>7162.35</td>\n",
              "    </tr>\n",
              "  </tbody>\n",
              "</table>\n",
              "<p>2035 rows × 9 columns</p>\n",
              "</div>\n",
              "    <div class=\"colab-df-buttons\">\n",
              "\n",
              "  <div class=\"colab-df-container\">\n",
              "    <button class=\"colab-df-convert\" onclick=\"convertToInteractive('df-3776ebd2-4d72-4d00-9677-9db92417a95f')\"\n",
              "            title=\"Convert this dataframe to an interactive table.\"\n",
              "            style=\"display:none;\">\n",
              "\n",
              "  <svg xmlns=\"http://www.w3.org/2000/svg\" height=\"24px\" viewBox=\"0 -960 960 960\">\n",
              "    <path d=\"M120-120v-720h720v720H120Zm60-500h600v-160H180v160Zm220 220h160v-160H400v160Zm0 220h160v-160H400v160ZM180-400h160v-160H180v160Zm440 0h160v-160H620v160ZM180-180h160v-160H180v160Zm440 0h160v-160H620v160Z\"/>\n",
              "  </svg>\n",
              "    </button>\n",
              "\n",
              "  <style>\n",
              "    .colab-df-container {\n",
              "      display:flex;\n",
              "      gap: 12px;\n",
              "    }\n",
              "\n",
              "    .colab-df-convert {\n",
              "      background-color: #E8F0FE;\n",
              "      border: none;\n",
              "      border-radius: 50%;\n",
              "      cursor: pointer;\n",
              "      display: none;\n",
              "      fill: #1967D2;\n",
              "      height: 32px;\n",
              "      padding: 0 0 0 0;\n",
              "      width: 32px;\n",
              "    }\n",
              "\n",
              "    .colab-df-convert:hover {\n",
              "      background-color: #E2EBFA;\n",
              "      box-shadow: 0px 1px 2px rgba(60, 64, 67, 0.3), 0px 1px 3px 1px rgba(60, 64, 67, 0.15);\n",
              "      fill: #174EA6;\n",
              "    }\n",
              "\n",
              "    .colab-df-buttons div {\n",
              "      margin-bottom: 4px;\n",
              "    }\n",
              "\n",
              "    [theme=dark] .colab-df-convert {\n",
              "      background-color: #3B4455;\n",
              "      fill: #D2E3FC;\n",
              "    }\n",
              "\n",
              "    [theme=dark] .colab-df-convert:hover {\n",
              "      background-color: #434B5C;\n",
              "      box-shadow: 0px 1px 3px 1px rgba(0, 0, 0, 0.15);\n",
              "      filter: drop-shadow(0px 1px 2px rgba(0, 0, 0, 0.3));\n",
              "      fill: #FFFFFF;\n",
              "    }\n",
              "  </style>\n",
              "\n",
              "    <script>\n",
              "      const buttonEl =\n",
              "        document.querySelector('#df-3776ebd2-4d72-4d00-9677-9db92417a95f button.colab-df-convert');\n",
              "      buttonEl.style.display =\n",
              "        google.colab.kernel.accessAllowed ? 'block' : 'none';\n",
              "\n",
              "      async function convertToInteractive(key) {\n",
              "        const element = document.querySelector('#df-3776ebd2-4d72-4d00-9677-9db92417a95f');\n",
              "        const dataTable =\n",
              "          await google.colab.kernel.invokeFunction('convertToInteractive',\n",
              "                                                    [key], {});\n",
              "        if (!dataTable) return;\n",
              "\n",
              "        const docLinkHtml = 'Like what you see? Visit the ' +\n",
              "          '<a target=\"_blank\" href=https://colab.research.google.com/notebooks/data_table.ipynb>data table notebook</a>'\n",
              "          + ' to learn more about interactive tables.';\n",
              "        element.innerHTML = '';\n",
              "        dataTable['output_type'] = 'display_data';\n",
              "        await google.colab.output.renderOutput(dataTable, element);\n",
              "        const docLink = document.createElement('div');\n",
              "        docLink.innerHTML = docLinkHtml;\n",
              "        element.appendChild(docLink);\n",
              "      }\n",
              "    </script>\n",
              "  </div>\n",
              "\n",
              "\n",
              "<div id=\"df-68383d26-f8a7-4bba-8020-dc339c3988d8\">\n",
              "  <button class=\"colab-df-quickchart\" onclick=\"quickchart('df-68383d26-f8a7-4bba-8020-dc339c3988d8')\"\n",
              "            title=\"Suggest charts\"\n",
              "            style=\"display:none;\">\n",
              "\n",
              "<svg xmlns=\"http://www.w3.org/2000/svg\" height=\"24px\"viewBox=\"0 0 24 24\"\n",
              "     width=\"24px\">\n",
              "    <g>\n",
              "        <path d=\"M19 3H5c-1.1 0-2 .9-2 2v14c0 1.1.9 2 2 2h14c1.1 0 2-.9 2-2V5c0-1.1-.9-2-2-2zM9 17H7v-7h2v7zm4 0h-2V7h2v10zm4 0h-2v-4h2v4z\"/>\n",
              "    </g>\n",
              "</svg>\n",
              "  </button>\n",
              "\n",
              "<style>\n",
              "  .colab-df-quickchart {\n",
              "      --bg-color: #E8F0FE;\n",
              "      --fill-color: #1967D2;\n",
              "      --hover-bg-color: #E2EBFA;\n",
              "      --hover-fill-color: #174EA6;\n",
              "      --disabled-fill-color: #AAA;\n",
              "      --disabled-bg-color: #DDD;\n",
              "  }\n",
              "\n",
              "  [theme=dark] .colab-df-quickchart {\n",
              "      --bg-color: #3B4455;\n",
              "      --fill-color: #D2E3FC;\n",
              "      --hover-bg-color: #434B5C;\n",
              "      --hover-fill-color: #FFFFFF;\n",
              "      --disabled-bg-color: #3B4455;\n",
              "      --disabled-fill-color: #666;\n",
              "  }\n",
              "\n",
              "  .colab-df-quickchart {\n",
              "    background-color: var(--bg-color);\n",
              "    border: none;\n",
              "    border-radius: 50%;\n",
              "    cursor: pointer;\n",
              "    display: none;\n",
              "    fill: var(--fill-color);\n",
              "    height: 32px;\n",
              "    padding: 0;\n",
              "    width: 32px;\n",
              "  }\n",
              "\n",
              "  .colab-df-quickchart:hover {\n",
              "    background-color: var(--hover-bg-color);\n",
              "    box-shadow: 0 1px 2px rgba(60, 64, 67, 0.3), 0 1px 3px 1px rgba(60, 64, 67, 0.15);\n",
              "    fill: var(--button-hover-fill-color);\n",
              "  }\n",
              "\n",
              "  .colab-df-quickchart-complete:disabled,\n",
              "  .colab-df-quickchart-complete:disabled:hover {\n",
              "    background-color: var(--disabled-bg-color);\n",
              "    fill: var(--disabled-fill-color);\n",
              "    box-shadow: none;\n",
              "  }\n",
              "\n",
              "  .colab-df-spinner {\n",
              "    border: 2px solid var(--fill-color);\n",
              "    border-color: transparent;\n",
              "    border-bottom-color: var(--fill-color);\n",
              "    animation:\n",
              "      spin 1s steps(1) infinite;\n",
              "  }\n",
              "\n",
              "  @keyframes spin {\n",
              "    0% {\n",
              "      border-color: transparent;\n",
              "      border-bottom-color: var(--fill-color);\n",
              "      border-left-color: var(--fill-color);\n",
              "    }\n",
              "    20% {\n",
              "      border-color: transparent;\n",
              "      border-left-color: var(--fill-color);\n",
              "      border-top-color: var(--fill-color);\n",
              "    }\n",
              "    30% {\n",
              "      border-color: transparent;\n",
              "      border-left-color: var(--fill-color);\n",
              "      border-top-color: var(--fill-color);\n",
              "      border-right-color: var(--fill-color);\n",
              "    }\n",
              "    40% {\n",
              "      border-color: transparent;\n",
              "      border-right-color: var(--fill-color);\n",
              "      border-top-color: var(--fill-color);\n",
              "    }\n",
              "    60% {\n",
              "      border-color: transparent;\n",
              "      border-right-color: var(--fill-color);\n",
              "    }\n",
              "    80% {\n",
              "      border-color: transparent;\n",
              "      border-right-color: var(--fill-color);\n",
              "      border-bottom-color: var(--fill-color);\n",
              "    }\n",
              "    90% {\n",
              "      border-color: transparent;\n",
              "      border-bottom-color: var(--fill-color);\n",
              "    }\n",
              "  }\n",
              "</style>\n",
              "\n",
              "  <script>\n",
              "    async function quickchart(key) {\n",
              "      const quickchartButtonEl =\n",
              "        document.querySelector('#' + key + ' button');\n",
              "      quickchartButtonEl.disabled = true;  // To prevent multiple clicks.\n",
              "      quickchartButtonEl.classList.add('colab-df-spinner');\n",
              "      try {\n",
              "        const charts = await google.colab.kernel.invokeFunction(\n",
              "            'suggestCharts', [key], {});\n",
              "      } catch (error) {\n",
              "        console.error('Error during call to suggestCharts:', error);\n",
              "      }\n",
              "      quickchartButtonEl.classList.remove('colab-df-spinner');\n",
              "      quickchartButtonEl.classList.add('colab-df-quickchart-complete');\n",
              "    }\n",
              "    (() => {\n",
              "      let quickchartButtonEl =\n",
              "        document.querySelector('#df-68383d26-f8a7-4bba-8020-dc339c3988d8 button');\n",
              "      quickchartButtonEl.style.display =\n",
              "        google.colab.kernel.accessAllowed ? 'block' : 'none';\n",
              "    })();\n",
              "  </script>\n",
              "</div>\n",
              "    </div>\n",
              "  </div>\n"
            ]
          },
          "metadata": {},
          "execution_count": 13
        }
      ]
    },
    {
      "cell_type": "markdown",
      "source": [
        "Univariate analysis of closing price"
      ],
      "metadata": {
        "id": "obRHf47P5ohm"
      }
    },
    {
      "cell_type": "code",
      "source": [
        "close_df=new_df['Close']\n",
        "close_df"
      ],
      "metadata": {
        "colab": {
          "base_uri": "https://localhost:8080/"
        },
        "id": "7ZNiVosY5jjC",
        "outputId": "d8fee37b-561a-4ac3-dd87-95a56e39f974"
      },
      "execution_count": 14,
      "outputs": [
        {
          "output_type": "execute_result",
          "data": {
            "text/plain": [
              "0       121.55\n",
              "1       120.90\n",
              "2       120.65\n",
              "3       117.60\n",
              "4       118.65\n",
              "         ...  \n",
              "2030    233.30\n",
              "2031    236.10\n",
              "2032    234.25\n",
              "2033    233.25\n",
              "2034    233.75\n",
              "Name: Close, Length: 2035, dtype: float64"
            ]
          },
          "metadata": {},
          "execution_count": 14
        }
      ]
    },
    {
      "cell_type": "code",
      "source": [
        "close_df.shape"
      ],
      "metadata": {
        "colab": {
          "base_uri": "https://localhost:8080/"
        },
        "id": "aE2we0sw5u5L",
        "outputId": "dffd7317-d138-44df-9458-c0e17854644e"
      },
      "execution_count": 15,
      "outputs": [
        {
          "output_type": "execute_result",
          "data": {
            "text/plain": [
              "(2035,)"
            ]
          },
          "metadata": {},
          "execution_count": 15
        }
      ]
    },
    {
      "cell_type": "markdown",
      "source": [
        "Min Max Scaler"
      ],
      "metadata": {
        "id": "J5ICEZh-51wG"
      }
    },
    {
      "cell_type": "code",
      "source": [
        "scaler=MinMaxScaler(feature_range=(0,1))\n",
        "close_df=scaler.fit_transform(np.array(close_df).reshape(-1,1))\n",
        "close_df"
      ],
      "metadata": {
        "colab": {
          "base_uri": "https://localhost:8080/"
        },
        "id": "lo0ujt1R5x4q",
        "outputId": "69ae116a-249d-4515-87c9-340d430fb460"
      },
      "execution_count": 16,
      "outputs": [
        {
          "output_type": "execute_result",
          "data": {
            "text/plain": [
              "array([[0.16584967],\n",
              "       [0.16319444],\n",
              "       [0.1621732 ],\n",
              "       ...,\n",
              "       [0.62622549],\n",
              "       [0.62214052],\n",
              "       [0.62418301]])"
            ]
          },
          "metadata": {},
          "execution_count": 16
        }
      ]
    },
    {
      "cell_type": "markdown",
      "source": [
        "Train and Test Split"
      ],
      "metadata": {
        "id": "iuWmXq896yWv"
      }
    },
    {
      "cell_type": "code",
      "source": [
        "training_size=int(len(close_df)*0.7)\n",
        "test_size=len(close_df)-training_size\n",
        "train_data,test_data=close_df[0:training_size,:],close_df[training_size:len(close_df),:1]"
      ],
      "metadata": {
        "id": "DlvC5JYk59tI"
      },
      "execution_count": 17,
      "outputs": []
    },
    {
      "cell_type": "code",
      "source": [
        "print(train_data.shape,test_data.shape)"
      ],
      "metadata": {
        "colab": {
          "base_uri": "https://localhost:8080/"
        },
        "id": "NMygDfDF63o4",
        "outputId": "30f51188-dadd-4e7b-f9f0-c461dee9f3c5"
      },
      "execution_count": 20,
      "outputs": [
        {
          "output_type": "stream",
          "name": "stdout",
          "text": [
            "(1424, 1) (611, 1)\n"
          ]
        }
      ]
    },
    {
      "cell_type": "markdown",
      "source": [
        "Data Preprocessing"
      ],
      "metadata": {
        "id": "SDcz4vHs7Mfj"
      }
    },
    {
      "cell_type": "code",
      "source": [
        "import numpy as np\n",
        "def create_dataset(dataset, time_step=1):\n",
        "    dataX=[]\n",
        "    dataY=[]\n",
        "    for i in range(len(dataset)-time_step-1):\n",
        "        a = dataset[i:(i+time_step), 0]\n",
        "        dataX.append(a)\n",
        "        dataY.append(dataset[i + time_step, 0])\n",
        "    return np.array(dataX), np.array(dataY)\n",
        "time_step = 100\n",
        "X_train, y_train = create_dataset(train_data, time_step)#reshaping into tuples\n",
        "X_test, ytest = create_dataset(test_data, time_step)"
      ],
      "metadata": {
        "id": "lD9GrTos6-y8"
      },
      "execution_count": 21,
      "outputs": []
    },
    {
      "cell_type": "code",
      "source": [
        "X_test, ytest = create_dataset(test_data, time_step)\n",
        "X_train.shape,y_train.shape,X_test.shape,ytest.shape"
      ],
      "metadata": {
        "colab": {
          "base_uri": "https://localhost:8080/"
        },
        "id": "3EVLh29F76Hl",
        "outputId": "fbce7e31-e6dc-4ee8-a90f-856db90c7092"
      },
      "execution_count": 26,
      "outputs": [
        {
          "output_type": "execute_result",
          "data": {
            "text/plain": [
              "((1323, 100), (1323,), (510, 100), (510,))"
            ]
          },
          "metadata": {},
          "execution_count": 26
        }
      ]
    },
    {
      "cell_type": "code",
      "source": [
        "X_train=X_train.reshape(X_train.shape[0],X_train.shape[1],1)\n",
        "X_test=X_test.reshape(X_test.shape[0],X_test.shape[1],1)"
      ],
      "metadata": {
        "id": "9NE1Z8jr8AZE"
      },
      "execution_count": 27,
      "outputs": []
    },
    {
      "cell_type": "markdown",
      "source": [
        "Creating the stacked LSTM Model"
      ],
      "metadata": {
        "id": "0UkTr-RO8Uiy"
      }
    },
    {
      "cell_type": "code",
      "source": [
        "from tensorflow.keras.models import Sequential\n",
        "from tensorflow.keras.layers import Dense\n",
        "from tensorflow.keras.layers import LSTM\n",
        "\n",
        "model=Sequential()\n",
        "model.add(LSTM(50,return_sequences=True,input_shape=(time_step,1)))#input layer with 50 neurons\n",
        "model.add(LSTM(50,return_sequences=True)) #hidden layers with 50 neurons\n",
        "model.add(LSTM(50))\n",
        "model.add(Dense(1))#output layer\n",
        "model.compile(loss='mean_squared_error',optimizer='adam')"
      ],
      "metadata": {
        "id": "pZ_vBmx18R8V"
      },
      "execution_count": 28,
      "outputs": []
    },
    {
      "cell_type": "code",
      "source": [
        "model = Sequential()\n",
        "model.add(LSTM(50, return_sequences=True, input_shape=(100,1)))\n",
        "model.add(LSTM(50, return_sequences=True, input_shape=(100,1)))\n",
        "model.add(LSTM(50))\n",
        "model.add(Dense(1))\n",
        "model.compile(loss='mean_squared_error', optimizer='adam', metrics='acc')\n",
        "model.summary()"
      ],
      "metadata": {
        "colab": {
          "base_uri": "https://localhost:8080/"
        },
        "id": "AJ47erlA8XbV",
        "outputId": "79344102-0f36-4eab-c8aa-2c9b4305d90e"
      },
      "execution_count": 29,
      "outputs": [
        {
          "output_type": "stream",
          "name": "stdout",
          "text": [
            "Model: \"sequential_1\"\n",
            "_________________________________________________________________\n",
            " Layer (type)                Output Shape              Param #   \n",
            "=================================================================\n",
            " lstm_3 (LSTM)               (None, 100, 50)           10400     \n",
            "                                                                 \n",
            " lstm_4 (LSTM)               (None, 100, 50)           20200     \n",
            "                                                                 \n",
            " lstm_5 (LSTM)               (None, 50)                20200     \n",
            "                                                                 \n",
            " dense_1 (Dense)             (None, 1)                 51        \n",
            "                                                                 \n",
            "=================================================================\n",
            "Total params: 50851 (198.64 KB)\n",
            "Trainable params: 50851 (198.64 KB)\n",
            "Non-trainable params: 0 (0.00 Byte)\n",
            "_________________________________________________________________\n"
          ]
        }
      ]
    },
    {
      "cell_type": "code",
      "source": [
        "model.fit(X_train, y_train, validation_data = (X_test, ytest), epochs =100, batch_size = 64, verbose = 1);"
      ],
      "metadata": {
        "colab": {
          "base_uri": "https://localhost:8080/"
        },
        "id": "lzMDwDLs8eBz",
        "outputId": "23086e0c-8726-413e-ca8b-0395eb4e2738"
      },
      "execution_count": 30,
      "outputs": [
        {
          "output_type": "stream",
          "name": "stdout",
          "text": [
            "Epoch 1/100\n",
            "21/21 [==============================] - 14s 304ms/step - loss: 0.0112 - acc: 7.5586e-04 - val_loss: 0.0258 - val_acc: 0.0020\n",
            "Epoch 2/100\n",
            "21/21 [==============================] - 4s 205ms/step - loss: 0.0018 - acc: 7.5586e-04 - val_loss: 0.0034 - val_acc: 0.0020\n",
            "Epoch 3/100\n",
            "21/21 [==============================] - 4s 193ms/step - loss: 9.6049e-04 - acc: 7.5586e-04 - val_loss: 0.0033 - val_acc: 0.0020\n",
            "Epoch 4/100\n",
            "21/21 [==============================] - 5s 229ms/step - loss: 8.7159e-04 - acc: 7.5586e-04 - val_loss: 0.0042 - val_acc: 0.0020\n",
            "Epoch 5/100\n",
            "21/21 [==============================] - 4s 199ms/step - loss: 8.4365e-04 - acc: 7.5586e-04 - val_loss: 0.0036 - val_acc: 0.0020\n",
            "Epoch 6/100\n",
            "21/21 [==============================] - 4s 182ms/step - loss: 8.3380e-04 - acc: 7.5586e-04 - val_loss: 0.0042 - val_acc: 0.0020\n",
            "Epoch 7/100\n",
            "21/21 [==============================] - 5s 225ms/step - loss: 7.9946e-04 - acc: 7.5586e-04 - val_loss: 0.0029 - val_acc: 0.0020\n",
            "Epoch 8/100\n",
            "21/21 [==============================] - 4s 199ms/step - loss: 8.0480e-04 - acc: 7.5586e-04 - val_loss: 0.0024 - val_acc: 0.0020\n",
            "Epoch 9/100\n",
            "21/21 [==============================] - 4s 195ms/step - loss: 7.6763e-04 - acc: 7.5586e-04 - val_loss: 0.0025 - val_acc: 0.0020\n",
            "Epoch 10/100\n",
            "21/21 [==============================] - 5s 232ms/step - loss: 7.1795e-04 - acc: 7.5586e-04 - val_loss: 0.0043 - val_acc: 0.0020\n",
            "Epoch 11/100\n",
            "21/21 [==============================] - 4s 182ms/step - loss: 6.8165e-04 - acc: 7.5586e-04 - val_loss: 0.0029 - val_acc: 0.0020\n",
            "Epoch 12/100\n",
            "21/21 [==============================] - 4s 192ms/step - loss: 6.7214e-04 - acc: 7.5586e-04 - val_loss: 0.0036 - val_acc: 0.0020\n",
            "Epoch 13/100\n",
            "21/21 [==============================] - 5s 228ms/step - loss: 6.2860e-04 - acc: 7.5586e-04 - val_loss: 0.0042 - val_acc: 0.0020\n",
            "Epoch 14/100\n",
            "21/21 [==============================] - 4s 188ms/step - loss: 6.6121e-04 - acc: 7.5586e-04 - val_loss: 0.0028 - val_acc: 0.0020\n",
            "Epoch 15/100\n",
            "21/21 [==============================] - 4s 181ms/step - loss: 6.1075e-04 - acc: 7.5586e-04 - val_loss: 0.0035 - val_acc: 0.0020\n",
            "Epoch 16/100\n",
            "21/21 [==============================] - 5s 217ms/step - loss: 5.6920e-04 - acc: 7.5586e-04 - val_loss: 0.0023 - val_acc: 0.0020\n",
            "Epoch 17/100\n",
            "21/21 [==============================] - 4s 210ms/step - loss: 5.7508e-04 - acc: 7.5586e-04 - val_loss: 0.0048 - val_acc: 0.0020\n",
            "Epoch 18/100\n",
            "21/21 [==============================] - 4s 193ms/step - loss: 5.4639e-04 - acc: 7.5586e-04 - val_loss: 0.0058 - val_acc: 0.0020\n",
            "Epoch 19/100\n",
            "21/21 [==============================] - 5s 221ms/step - loss: 5.1909e-04 - acc: 7.5586e-04 - val_loss: 0.0053 - val_acc: 0.0020\n",
            "Epoch 20/100\n",
            "21/21 [==============================] - 4s 206ms/step - loss: 5.3010e-04 - acc: 7.5586e-04 - val_loss: 0.0032 - val_acc: 0.0020\n",
            "Epoch 21/100\n",
            "21/21 [==============================] - 4s 181ms/step - loss: 5.0363e-04 - acc: 7.5586e-04 - val_loss: 0.0048 - val_acc: 0.0020\n",
            "Epoch 22/100\n",
            "21/21 [==============================] - 5s 219ms/step - loss: 5.1401e-04 - acc: 7.5586e-04 - val_loss: 0.0034 - val_acc: 0.0020\n",
            "Epoch 23/100\n",
            "21/21 [==============================] - 4s 199ms/step - loss: 4.6293e-04 - acc: 7.5586e-04 - val_loss: 0.0044 - val_acc: 0.0020\n",
            "Epoch 24/100\n",
            "21/21 [==============================] - 4s 183ms/step - loss: 4.7740e-04 - acc: 7.5586e-04 - val_loss: 0.0029 - val_acc: 0.0020\n",
            "Epoch 25/100\n",
            "21/21 [==============================] - 5s 242ms/step - loss: 4.3458e-04 - acc: 7.5586e-04 - val_loss: 0.0035 - val_acc: 0.0020\n",
            "Epoch 26/100\n",
            "21/21 [==============================] - 4s 211ms/step - loss: 4.1429e-04 - acc: 7.5586e-04 - val_loss: 0.0032 - val_acc: 0.0020\n",
            "Epoch 27/100\n",
            "21/21 [==============================] - 4s 193ms/step - loss: 4.1241e-04 - acc: 7.5586e-04 - val_loss: 0.0018 - val_acc: 0.0020\n",
            "Epoch 28/100\n",
            "21/21 [==============================] - 5s 251ms/step - loss: 4.0957e-04 - acc: 7.5586e-04 - val_loss: 0.0046 - val_acc: 0.0020\n",
            "Epoch 29/100\n",
            "21/21 [==============================] - 4s 182ms/step - loss: 3.8460e-04 - acc: 7.5586e-04 - val_loss: 0.0028 - val_acc: 0.0020\n",
            "Epoch 30/100\n",
            "21/21 [==============================] - 4s 184ms/step - loss: 3.6153e-04 - acc: 7.5586e-04 - val_loss: 0.0018 - val_acc: 0.0020\n",
            "Epoch 31/100\n",
            "21/21 [==============================] - 5s 252ms/step - loss: 3.4866e-04 - acc: 7.5586e-04 - val_loss: 0.0034 - val_acc: 0.0020\n",
            "Epoch 32/100\n",
            "21/21 [==============================] - 4s 184ms/step - loss: 3.4636e-04 - acc: 7.5586e-04 - val_loss: 0.0043 - val_acc: 0.0020\n",
            "Epoch 33/100\n",
            "21/21 [==============================] - 4s 184ms/step - loss: 3.2647e-04 - acc: 7.5586e-04 - val_loss: 0.0028 - val_acc: 0.0020\n",
            "Epoch 34/100\n",
            "21/21 [==============================] - 5s 249ms/step - loss: 3.3581e-04 - acc: 7.5586e-04 - val_loss: 0.0023 - val_acc: 0.0020\n",
            "Epoch 35/100\n",
            "21/21 [==============================] - 4s 183ms/step - loss: 2.9906e-04 - acc: 7.5586e-04 - val_loss: 0.0020 - val_acc: 0.0020\n",
            "Epoch 36/100\n",
            "21/21 [==============================] - 4s 193ms/step - loss: 2.9749e-04 - acc: 7.5586e-04 - val_loss: 0.0013 - val_acc: 0.0020\n",
            "Epoch 37/100\n",
            "21/21 [==============================] - 5s 242ms/step - loss: 2.8789e-04 - acc: 7.5586e-04 - val_loss: 0.0014 - val_acc: 0.0020\n",
            "Epoch 38/100\n",
            "21/21 [==============================] - 4s 192ms/step - loss: 2.8815e-04 - acc: 7.5586e-04 - val_loss: 0.0014 - val_acc: 0.0020\n",
            "Epoch 39/100\n",
            "21/21 [==============================] - 4s 181ms/step - loss: 2.8204e-04 - acc: 7.5586e-04 - val_loss: 0.0020 - val_acc: 0.0020\n",
            "Epoch 40/100\n",
            "21/21 [==============================] - 5s 247ms/step - loss: 2.7543e-04 - acc: 7.5586e-04 - val_loss: 0.0015 - val_acc: 0.0020\n",
            "Epoch 41/100\n",
            "21/21 [==============================] - 4s 192ms/step - loss: 2.4042e-04 - acc: 7.5586e-04 - val_loss: 0.0012 - val_acc: 0.0020\n",
            "Epoch 42/100\n",
            "21/21 [==============================] - 4s 195ms/step - loss: 2.3857e-04 - acc: 7.5586e-04 - val_loss: 0.0020 - val_acc: 0.0020\n",
            "Epoch 43/100\n",
            "21/21 [==============================] - 5s 251ms/step - loss: 2.4259e-04 - acc: 7.5586e-04 - val_loss: 0.0028 - val_acc: 0.0020\n",
            "Epoch 44/100\n",
            "21/21 [==============================] - 4s 195ms/step - loss: 2.3330e-04 - acc: 7.5586e-04 - val_loss: 9.9112e-04 - val_acc: 0.0020\n",
            "Epoch 45/100\n",
            "21/21 [==============================] - 4s 183ms/step - loss: 2.1603e-04 - acc: 7.5586e-04 - val_loss: 8.3191e-04 - val_acc: 0.0020\n",
            "Epoch 46/100\n",
            "21/21 [==============================] - 5s 256ms/step - loss: 2.1458e-04 - acc: 7.5586e-04 - val_loss: 9.4763e-04 - val_acc: 0.0020\n",
            "Epoch 47/100\n",
            "21/21 [==============================] - 4s 198ms/step - loss: 2.5357e-04 - acc: 7.5586e-04 - val_loss: 0.0025 - val_acc: 0.0020\n",
            "Epoch 48/100\n",
            "21/21 [==============================] - 4s 195ms/step - loss: 2.5127e-04 - acc: 7.5586e-04 - val_loss: 0.0015 - val_acc: 0.0020\n",
            "Epoch 49/100\n",
            "21/21 [==============================] - 5s 244ms/step - loss: 2.0949e-04 - acc: 7.5586e-04 - val_loss: 7.1808e-04 - val_acc: 0.0020\n",
            "Epoch 50/100\n",
            "21/21 [==============================] - 4s 197ms/step - loss: 2.0593e-04 - acc: 7.5586e-04 - val_loss: 8.8085e-04 - val_acc: 0.0020\n",
            "Epoch 51/100\n",
            "21/21 [==============================] - 4s 187ms/step - loss: 2.0006e-04 - acc: 7.5586e-04 - val_loss: 7.3922e-04 - val_acc: 0.0020\n",
            "Epoch 52/100\n",
            "21/21 [==============================] - 5s 257ms/step - loss: 1.9177e-04 - acc: 7.5586e-04 - val_loss: 0.0015 - val_acc: 0.0020\n",
            "Epoch 53/100\n",
            "21/21 [==============================] - 4s 196ms/step - loss: 1.8952e-04 - acc: 7.5586e-04 - val_loss: 0.0011 - val_acc: 0.0020\n",
            "Epoch 54/100\n",
            "21/21 [==============================] - 4s 187ms/step - loss: 1.8355e-04 - acc: 7.5586e-04 - val_loss: 0.0012 - val_acc: 0.0020\n",
            "Epoch 55/100\n",
            "21/21 [==============================] - 5s 256ms/step - loss: 1.7302e-04 - acc: 7.5586e-04 - val_loss: 5.8600e-04 - val_acc: 0.0020\n",
            "Epoch 56/100\n",
            "21/21 [==============================] - 4s 185ms/step - loss: 1.8175e-04 - acc: 7.5586e-04 - val_loss: 0.0013 - val_acc: 0.0020\n",
            "Epoch 57/100\n",
            "21/21 [==============================] - 4s 186ms/step - loss: 1.8441e-04 - acc: 7.5586e-04 - val_loss: 8.0484e-04 - val_acc: 0.0020\n",
            "Epoch 58/100\n",
            "21/21 [==============================] - 5s 236ms/step - loss: 1.7099e-04 - acc: 7.5586e-04 - val_loss: 4.9538e-04 - val_acc: 0.0020\n",
            "Epoch 59/100\n",
            "21/21 [==============================] - 4s 183ms/step - loss: 1.7764e-04 - acc: 7.5586e-04 - val_loss: 7.3078e-04 - val_acc: 0.0020\n",
            "Epoch 60/100\n",
            "21/21 [==============================] - 4s 183ms/step - loss: 1.5873e-04 - acc: 7.5586e-04 - val_loss: 8.5170e-04 - val_acc: 0.0020\n",
            "Epoch 61/100\n",
            "21/21 [==============================] - 5s 246ms/step - loss: 1.5571e-04 - acc: 7.5586e-04 - val_loss: 9.0884e-04 - val_acc: 0.0020\n",
            "Epoch 62/100\n",
            "21/21 [==============================] - 5s 244ms/step - loss: 1.6344e-04 - acc: 7.5586e-04 - val_loss: 4.9124e-04 - val_acc: 0.0020\n",
            "Epoch 63/100\n",
            "21/21 [==============================] - 4s 211ms/step - loss: 1.5752e-04 - acc: 7.5586e-04 - val_loss: 5.9280e-04 - val_acc: 0.0020\n",
            "Epoch 64/100\n",
            "21/21 [==============================] - 5s 221ms/step - loss: 1.7182e-04 - acc: 7.5586e-04 - val_loss: 0.0017 - val_acc: 0.0020\n",
            "Epoch 65/100\n",
            "21/21 [==============================] - 4s 186ms/step - loss: 1.5900e-04 - acc: 7.5586e-04 - val_loss: 4.7059e-04 - val_acc: 0.0020\n",
            "Epoch 66/100\n",
            "21/21 [==============================] - 5s 254ms/step - loss: 1.6568e-04 - acc: 7.5586e-04 - val_loss: 8.5126e-04 - val_acc: 0.0020\n",
            "Epoch 67/100\n",
            "21/21 [==============================] - 4s 187ms/step - loss: 1.4265e-04 - acc: 7.5586e-04 - val_loss: 7.3986e-04 - val_acc: 0.0020\n",
            "Epoch 68/100\n",
            "21/21 [==============================] - 4s 196ms/step - loss: 1.4380e-04 - acc: 7.5586e-04 - val_loss: 6.9362e-04 - val_acc: 0.0020\n",
            "Epoch 69/100\n",
            "21/21 [==============================] - 5s 245ms/step - loss: 1.4123e-04 - acc: 7.5586e-04 - val_loss: 0.0011 - val_acc: 0.0020\n",
            "Epoch 70/100\n",
            "21/21 [==============================] - 4s 185ms/step - loss: 1.3576e-04 - acc: 7.5586e-04 - val_loss: 5.2888e-04 - val_acc: 0.0020\n",
            "Epoch 71/100\n",
            "21/21 [==============================] - 4s 184ms/step - loss: 1.5053e-04 - acc: 7.5586e-04 - val_loss: 5.4768e-04 - val_acc: 0.0020\n",
            "Epoch 72/100\n",
            "21/21 [==============================] - 6s 275ms/step - loss: 1.4019e-04 - acc: 7.5586e-04 - val_loss: 8.3225e-04 - val_acc: 0.0020\n",
            "Epoch 73/100\n",
            "21/21 [==============================] - 4s 183ms/step - loss: 1.4812e-04 - acc: 7.5586e-04 - val_loss: 9.7421e-04 - val_acc: 0.0020\n",
            "Epoch 74/100\n",
            "21/21 [==============================] - 4s 186ms/step - loss: 1.3428e-04 - acc: 7.5586e-04 - val_loss: 7.9878e-04 - val_acc: 0.0020\n",
            "Epoch 75/100\n",
            "21/21 [==============================] - 5s 256ms/step - loss: 1.4054e-04 - acc: 7.5586e-04 - val_loss: 7.2746e-04 - val_acc: 0.0020\n",
            "Epoch 76/100\n",
            "21/21 [==============================] - 4s 195ms/step - loss: 1.3258e-04 - acc: 7.5586e-04 - val_loss: 7.6640e-04 - val_acc: 0.0020\n",
            "Epoch 77/100\n",
            "21/21 [==============================] - 4s 196ms/step - loss: 1.3069e-04 - acc: 7.5586e-04 - val_loss: 0.0015 - val_acc: 0.0020\n",
            "Epoch 78/100\n",
            "21/21 [==============================] - 5s 246ms/step - loss: 1.3327e-04 - acc: 7.5586e-04 - val_loss: 7.6979e-04 - val_acc: 0.0020\n",
            "Epoch 79/100\n",
            "21/21 [==============================] - 4s 193ms/step - loss: 1.3167e-04 - acc: 7.5586e-04 - val_loss: 9.3687e-04 - val_acc: 0.0020\n",
            "Epoch 80/100\n",
            "21/21 [==============================] - 4s 186ms/step - loss: 1.3334e-04 - acc: 7.5586e-04 - val_loss: 0.0011 - val_acc: 0.0020\n",
            "Epoch 81/100\n",
            "21/21 [==============================] - 5s 257ms/step - loss: 1.3944e-04 - acc: 7.5586e-04 - val_loss: 9.3338e-04 - val_acc: 0.0020\n",
            "Epoch 82/100\n",
            "21/21 [==============================] - 4s 196ms/step - loss: 1.3788e-04 - acc: 7.5586e-04 - val_loss: 6.8234e-04 - val_acc: 0.0020\n",
            "Epoch 83/100\n",
            "21/21 [==============================] - 4s 185ms/step - loss: 1.6117e-04 - acc: 7.5586e-04 - val_loss: 0.0011 - val_acc: 0.0020\n",
            "Epoch 84/100\n",
            "21/21 [==============================] - 5s 256ms/step - loss: 1.3251e-04 - acc: 7.5586e-04 - val_loss: 0.0011 - val_acc: 0.0020\n",
            "Epoch 85/100\n",
            "21/21 [==============================] - 4s 187ms/step - loss: 1.5103e-04 - acc: 7.5586e-04 - val_loss: 7.4113e-04 - val_acc: 0.0020\n",
            "Epoch 86/100\n",
            "21/21 [==============================] - 4s 196ms/step - loss: 1.3234e-04 - acc: 7.5586e-04 - val_loss: 0.0013 - val_acc: 0.0020\n",
            "Epoch 87/100\n",
            "21/21 [==============================] - 5s 257ms/step - loss: 1.2955e-04 - acc: 7.5586e-04 - val_loss: 8.0093e-04 - val_acc: 0.0020\n",
            "Epoch 88/100\n",
            "21/21 [==============================] - 4s 197ms/step - loss: 1.3305e-04 - acc: 7.5586e-04 - val_loss: 7.6019e-04 - val_acc: 0.0020\n",
            "Epoch 89/100\n",
            "21/21 [==============================] - 4s 185ms/step - loss: 1.2950e-04 - acc: 7.5586e-04 - val_loss: 0.0011 - val_acc: 0.0020\n",
            "Epoch 90/100\n",
            "21/21 [==============================] - 5s 251ms/step - loss: 1.4004e-04 - acc: 7.5586e-04 - val_loss: 8.3571e-04 - val_acc: 0.0020\n",
            "Epoch 91/100\n",
            "21/21 [==============================] - 4s 184ms/step - loss: 1.3779e-04 - acc: 7.5586e-04 - val_loss: 0.0014 - val_acc: 0.0020\n",
            "Epoch 92/100\n",
            "21/21 [==============================] - 4s 197ms/step - loss: 1.4783e-04 - acc: 7.5586e-04 - val_loss: 0.0013 - val_acc: 0.0020\n",
            "Epoch 93/100\n",
            "21/21 [==============================] - 5s 228ms/step - loss: 1.3110e-04 - acc: 7.5586e-04 - val_loss: 0.0011 - val_acc: 0.0020\n",
            "Epoch 94/100\n",
            "21/21 [==============================] - 4s 194ms/step - loss: 1.3603e-04 - acc: 7.5586e-04 - val_loss: 6.1422e-04 - val_acc: 0.0020\n",
            "Epoch 95/100\n",
            "21/21 [==============================] - 4s 193ms/step - loss: 1.3412e-04 - acc: 7.5586e-04 - val_loss: 8.7253e-04 - val_acc: 0.0020\n",
            "Epoch 96/100\n",
            "21/21 [==============================] - 5s 238ms/step - loss: 1.2819e-04 - acc: 7.5586e-04 - val_loss: 8.0528e-04 - val_acc: 0.0020\n",
            "Epoch 97/100\n",
            "21/21 [==============================] - 4s 195ms/step - loss: 1.3136e-04 - acc: 7.5586e-04 - val_loss: 6.0068e-04 - val_acc: 0.0020\n",
            "Epoch 98/100\n",
            "21/21 [==============================] - 5s 231ms/step - loss: 1.3745e-04 - acc: 7.5586e-04 - val_loss: 7.2668e-04 - val_acc: 0.0020\n",
            "Epoch 99/100\n",
            "21/21 [==============================] - 4s 197ms/step - loss: 1.2708e-04 - acc: 7.5586e-04 - val_loss: 0.0011 - val_acc: 0.0020\n",
            "Epoch 100/100\n",
            "21/21 [==============================] - 4s 185ms/step - loss: 1.2790e-04 - acc: 7.5586e-04 - val_loss: 0.0013 - val_acc: 0.0020\n"
          ]
        }
      ]
    },
    {
      "cell_type": "markdown",
      "source": [
        "evaluation of constructed LSTM model"
      ],
      "metadata": {
        "id": "hZB0Ks25_I14"
      }
    },
    {
      "cell_type": "code",
      "source": [
        "#ploting loss of our trained model\n",
        "loss=model.history.history['loss']\n",
        "plt.plot(loss)\n",
        "plt.xlabel(\"No.of iteration...\")\n",
        "plt.ylabel(\"loss value...\")\n",
        "plt.title(\"variation of loss value with No. of iteration\",color=\"orange\",fontsize=16,fontweight=\"bold\");"
      ],
      "metadata": {
        "colab": {
          "base_uri": "https://localhost:8080/",
          "height": 474
        },
        "id": "J16SiwE68g9S",
        "outputId": "eb28474f-d713-4e6e-f993-456942bfed39"
      },
      "execution_count": 31,
      "outputs": [
        {
          "output_type": "display_data",
          "data": {
            "text/plain": [
              "<Figure size 640x480 with 1 Axes>"
            ],
            "image/png": "[encoded data removed]"
          },
          "metadata": {}
        }
      ]
    },
    {
      "cell_type": "markdown",
      "source": [
        "Evaluation of our constructed model on train and test data"
      ],
      "metadata": {
        "id": "wzROi_OQ_Pim"
      }
    },
    {
      "cell_type": "code",
      "source": [
        "train_predict1=model.predict(X_train)"
      ],
      "metadata": {
        "colab": {
          "base_uri": "https://localhost:8080/"
        },
        "id": "byS7kt1N_L_N",
        "outputId": "9a549320-94ce-4d04-d218-474de58c4068"
      },
      "execution_count": 32,
      "outputs": [
        {
          "output_type": "stream",
          "name": "stdout",
          "text": [
            "42/42 [==============================] - 3s 36ms/step\n"
          ]
        }
      ]
    },
    {
      "cell_type": "code",
      "source": [
        "test_predict1=model.predict(X_test)"
      ],
      "metadata": {
        "colab": {
          "base_uri": "https://localhost:8080/"
        },
        "id": "GvrXgxR7_RmB",
        "outputId": "78eac960-439d-4a31-9e8f-9894e7e83688"
      },
      "execution_count": 33,
      "outputs": [
        {
          "output_type": "stream",
          "name": "stdout",
          "text": [
            "16/16 [==============================] - 1s 86ms/step\n"
          ]
        }
      ]
    },
    {
      "cell_type": "code",
      "source": [
        "#Transformback to original form\n",
        "train_predict1=scaler.inverse_transform(train_predict1)\n",
        "test_predict1=scaler.inverse_transform(test_predict1)"
      ],
      "metadata": {
        "id": "7na2FUpD_TOF"
      },
      "execution_count": 34,
      "outputs": []
    },
    {
      "cell_type": "code",
      "source": [
        "import math\n",
        "from sklearn.metrics import mean_squared_error\n",
        "math.sqrt(mean_squared_error(y_train,train_predict1))"
      ],
      "metadata": {
        "colab": {
          "base_uri": "https://localhost:8080/"
        },
        "id": "MlRXf0gz_U9p",
        "outputId": "e8dfb582-eb9b-4288-8498-b38bd957831d"
      },
      "execution_count": 35,
      "outputs": [
        {
          "output_type": "execute_result",
          "data": {
            "text/plain": [
              "133.3610654279789"
            ]
          },
          "metadata": {},
          "execution_count": 35
        }
      ]
    },
    {
      "cell_type": "code",
      "source": [
        "math.sqrt(mean_squared_error(ytest,test_predict1))"
      ],
      "metadata": {
        "colab": {
          "base_uri": "https://localhost:8080/"
        },
        "id": "2G-1XCgh_Wp4",
        "outputId": "407362c2-cce7-44fc-f254-1a6e1ce0ef07"
      },
      "execution_count": 36,
      "outputs": [
        {
          "output_type": "execute_result",
          "data": {
            "text/plain": [
              "207.34205678637957"
            ]
          },
          "metadata": {},
          "execution_count": 36
        }
      ]
    },
    {
      "cell_type": "code",
      "source": [
        "close_df"
      ],
      "metadata": {
        "colab": {
          "base_uri": "https://localhost:8080/"
        },
        "id": "gUlZ5hCe_YC4",
        "outputId": "10885a98-63f4-46f3-846e-690345750d7e"
      },
      "execution_count": 37,
      "outputs": [
        {
          "output_type": "execute_result",
          "data": {
            "text/plain": [
              "array([[0.16584967],\n",
              "       [0.16319444],\n",
              "       [0.1621732 ],\n",
              "       ...,\n",
              "       [0.62622549],\n",
              "       [0.62214052],\n",
              "       [0.62418301]])"
            ]
          },
          "metadata": {},
          "execution_count": 37
        }
      ]
    },
    {
      "cell_type": "code",
      "source": [
        "train_predict1.shape"
      ],
      "metadata": {
        "colab": {
          "base_uri": "https://localhost:8080/"
        },
        "id": "O8cY2s1x_Ztx",
        "outputId": "5ca3dd87-9b54-48fc-e055-c8038db36d89"
      },
      "execution_count": 38,
      "outputs": [
        {
          "output_type": "execute_result",
          "data": {
            "text/plain": [
              "(1323, 1)"
            ]
          },
          "metadata": {},
          "execution_count": 38
        }
      ]
    },
    {
      "cell_type": "markdown",
      "source": [
        "Plotting\n",
        "\n"
      ],
      "metadata": {
        "id": "MRieoQwN_cmD"
      }
    },
    {
      "cell_type": "code",
      "source": [
        "# shift train predictions for plotting\n",
        "look_back=100\n",
        "trainPredictPlot = np.empty_like(close_df)\n",
        "trainPredictPlot[:, :] = np.nan\n",
        "trainPredictPlot[look_back:len(train_predict1)+look_back, :] = train_predict1\n",
        "\n",
        "# shift test predictions for plotting\n",
        "testPredictPlot = np.empty_like(close_df)\n",
        "testPredictPlot[:, :] = np.nan\n",
        "testPredictPlot[len(train_predict1)+(look_back*2)+1:len(df)-1, :] = test_predict1\n"
      ],
      "metadata": {
        "id": "Eq4cKQDV_bir"
      },
      "execution_count": 39,
      "outputs": []
    },
    {
      "cell_type": "code",
      "source": [
        "# plot baseline and predictions\n",
        "plt.figure(figsize=(10,5))\n",
        "plt.plot(scaler.inverse_transform(close_df))\n",
        "plt.title(\"variation of actual dataset\",color=\"orange\",fontsize=16,fontweight=\"bold\")\n",
        "plt.xlabel(\"data index number\")\n",
        "plt.ylabel(\"closing price\")"
      ],
      "metadata": {
        "colab": {
          "base_uri": "https://localhost:8080/",
          "height": 506
        },
        "id": "LZfluHTa_gny",
        "outputId": "7ded934b-6b4e-4123-9a8a-7566381e1bf1"
      },
      "execution_count": 40,
      "outputs": [
        {
          "output_type": "execute_result",
          "data": {
            "text/plain": [
              "Text(0, 0.5, 'closing price')"
            ]
          },
          "metadata": {},
          "execution_count": 40
        },
        {
          "output_type": "display_data",
          "data": {
            "text/plain": [
              "<Figure size 1000x500 with 1 Axes>"
            ],
            "image/png": "[encoded data removed]"
          },
          "metadata": {}
        }
      ]
    },
    {
      "cell_type": "code",
      "source": [
        "#plot of predictions on closing price made by our model on training dataset vs actual closing price\n",
        "plt.plot(scaler.inverse_transform(close_df))\n",
        "plt.plot(trainPredictPlot)\n",
        "plt.title(\"variation of predicted trained dataset(orange) and actual dataset(lightblue)\",color=\"orange\",fontsize=16,fontweight=\"bold\")\n",
        "plt.xlabel(\"data index number\")\n",
        "plt.ylabel(\"closing price\")"
      ],
      "metadata": {
        "colab": {
          "base_uri": "https://localhost:8080/",
          "height": 491
        },
        "id": "JUyq4Mzv_iP0",
        "outputId": "8117ec8e-39e3-429a-99e0-096d41f45188"
      },
      "execution_count": 41,
      "outputs": [
        {
          "output_type": "execute_result",
          "data": {
            "text/plain": [
              "Text(0, 0.5, 'closing price')"
            ]
          },
          "metadata": {},
          "execution_count": 41
        },
        {
          "output_type": "display_data",
          "data": {
            "text/plain": [
              "<Figure size 640x480 with 1 Axes>"
            ],
            "image/png": "[encoded data removed]"
          },
          "metadata": {}
        }
      ]
    },
    {
      "cell_type": "code",
      "source": [
        "#plot of prediction on closing price made by our model on training dataset vs actual closing price\n",
        "#vs prediction on closing price made by our model on test dataset\n",
        "plt.plot(scaler.inverse_transform(close_df))\n",
        "plt.plot(trainPredictPlot)\n",
        "plt.title(\"variation of predicted tested dataset(green) and actual dataset(lightblue)\",color=\"orange\",fontsize=16,fontweight=\"bold\")\n",
        "plt.xlabel(\"data index number\")\n",
        "plt.ylabel(\"closing price\")\n",
        "plt.plot(testPredictPlot)\n",
        "plt.show()"
      ],
      "metadata": {
        "colab": {
          "base_uri": "https://localhost:8080/",
          "height": 474
        },
        "id": "LHzbezsF_kkR",
        "outputId": "e56f860d-b854-438c-849a-64a389a1cb71"
      },
      "execution_count": 42,
      "outputs": [
        {
          "output_type": "display_data",
          "data": {
            "text/plain": [
              "<Figure size 640x480 with 1 Axes>"
            ],
            "image/png": "[encoded data removed]"
          },
          "metadata": {}
        }
      ]
    },
    {
      "cell_type": "markdown",
      "source": [
        "REFERENCE:\n",
        "light blue=-actual closing price\n",
        "\n",
        "orange=prediction on closing price made by our model on training dataset\n",
        "\n",
        "green=prediction on closing price made by model on test dataset"
      ],
      "metadata": {
        "id": "I3ntKYtO_ry2"
      }
    },
    {
      "cell_type": "code",
      "source": [],
      "metadata": {
        "id": "A_mhrQfb_pmc"
      },
      "execution_count": null,
      "outputs": []
    }
  ]
}